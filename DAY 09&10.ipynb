{
 "cells": [
  {
   "cell_type": "code",
   "execution_count": null,
   "id": "66230c2f-63d3-4370-9088-48750667e942",
   "metadata": {},
   "outputs": [],
   "source": [
    "24/04/2024 (Wednesday)\n"
   ]
  },
  {
   "cell_type": "code",
   "execution_count": 14,
   "id": "de7f6b21-c20e-4e8d-bcdf-f30c676815e2",
   "metadata": {},
   "outputs": [
    {
     "name": "stdin",
     "output_type": "stream",
     "text": [
      "Enter the srting 1234567\n"
     ]
    },
    {
     "name": "stdout",
     "output_type": "stream",
     "text": [
      "['1', '2', '3', '4', '5', '6', '7']\n"
     ]
    }
   ],
   "source": [
    "\n",
    "st=input(\"Enter the srting\")\n",
    "stack=[]\n",
    "for i in range(0,len(st)):\n",
    "    e=st[i]\n",
    "    stack.append(e)\n",
    "for i in range (0,len(st)):\n",
    "    el=stack.pop()\n",
    "    stack.append(e)\n",
    "\n",
    "print(stack)\n",
    "st1=str(stack)"
   ]
  },
  {
   "cell_type": "code",
   "execution_count": 15,
   "id": "9a9f8ba7-41ec-4321-b971-f4dd224cb85e",
   "metadata": {},
   "outputs": [
    {
     "ename": "SyntaxError",
     "evalue": "invalid syntax (3732389203.py, line 2)",
     "output_type": "error",
     "traceback": [
      "\u001b[1;36m  Cell \u001b[1;32mIn[15], line 2\u001b[1;36m\u001b[0m\n\u001b[1;33m    stack[]\u001b[0m\n\u001b[1;37m          ^\u001b[0m\n\u001b[1;31mSyntaxError\u001b[0m\u001b[1;31m:\u001b[0m invalid syntax\n"
     ]
    }
   ],
   "source": [
    "st=input(\"Enter the String Functions\")\n",
    "stack[]\n",
    "for i in range(0,len(st)):\n",
    "    a=st[i]\n",
    "    stack.append(a)\n",
    "for i in range(0,len(st)):\n",
    "    "
   ]
  },
  {
   "cell_type": "code",
   "execution_count": 16,
   "id": "bb27303f-cb51-49cc-9288-3a1f062947e1",
   "metadata": {},
   "outputs": [
    {
     "name": "stdin",
     "output_type": "stream",
     "text": [
      " Maarif has the supercar\n"
     ]
    },
    {
     "name": "stdout",
     "output_type": "stream",
     "text": [
      "racrepus eht sah firaaM"
     ]
    }
   ],
   "source": [
    "a=input()\n",
    "s=[]\n",
    "for e in a :\n",
    "    s.append(e)\n",
    "\n",
    "while len(s)>0:\n",
    "    print(s.pop(),end=\"\")"
   ]
  },
  {
   "cell_type": "code",
   "execution_count": 23,
   "id": "0faf85b4-d889-488c-921b-8c7be19fc6f3",
   "metadata": {},
   "outputs": [
    {
     "name": "stdin",
     "output_type": "stream",
     "text": [
      " Here is the car\n"
     ]
    },
    {
     "name": "stdout",
     "output_type": "stream",
     "text": [
      "rac eht si ereH"
     ]
    }
   ],
   "source": [
    "a=input()\n",
    "s=[]\n",
    "for e in a :\n",
    "    s.append(e)\n",
    "\n",
    "while len(s)>0:\n",
    "    print(s.pop(),end=\"\")"
   ]
  },
  {
   "cell_type": "code",
   "execution_count": 24,
   "id": "f0cd748d-618f-47db-890e-ffe1ff5e6768",
   "metadata": {},
   "outputs": [
    {
     "name": "stdin",
     "output_type": "stream",
     "text": [
      " Ther is the car\n"
     ]
    },
    {
     "name": "stdout",
     "output_type": "stream",
     "text": [
      "car the is Ther "
     ]
    }
   ],
   "source": [
    "a=input()\n",
    "s=[]\n",
    "for e in a.split() :\n",
    "    s.append(e)\n",
    "\n",
    "while len(s)>0:\n",
    "    print(s.pop(),end=' ')"
   ]
  },
  {
   "cell_type": "markdown",
   "id": "2f267e80-1b8f-4dc3-9d73-2806a9d3b550",
   "metadata": {},
   "source": [
    "------------> prefix and postfix Expression:"
   ]
  },
  {
   "cell_type": "code",
   "execution_count": null,
   "id": "58c9573a-eaf6-4f1b-afd9-a214194d4cbc",
   "metadata": {},
   "outputs": [],
   "source": [
    "a=input()\n",
    "s=[]\n",
    "s1=[]\n",
    "for e in a:\n",
    "    push=s1\n",
    "    s.append(e)\n",
    "\n",
    "while len(s)"
   ]
  },
  {
   "cell_type": "code",
   "execution_count": 26,
   "id": "c04cfbdf-c6d6-4a2f-b961-1658b5dab55d",
   "metadata": {},
   "outputs": [
    {
     "ename": "IndentationError",
     "evalue": "expected an indented block after 'if' statement on line 5 (1771976377.py, line 6)",
     "output_type": "error",
     "traceback": [
      "\u001b[1;36m  Cell \u001b[1;32mIn[26], line 6\u001b[1;36m\u001b[0m\n\u001b[1;33m    result +=e\u001b[0m\n\u001b[1;37m    ^\u001b[0m\n\u001b[1;31mIndentationError\u001b[0m\u001b[1;31m:\u001b[0m expected an indented block after 'if' statement on line 5\n"
     ]
    }
   ],
   "source": [
    "exp = input()\n",
    "s=[]\n",
    "result =\" \"\n",
    "for e in exp:\n",
    "    if e.isalnum():\n",
    "    result +=e\n",
    "elif e == '(':\n",
    "    s.append(e)\n",
    "elif e == ')':\n",
    "    while s[-1] !='(':\n",
    "        result += s.pop()\n",
    "    s.pop()\n",
    "else:\n",
    "    while s and (prec(e)<prec(s[-1] or\n",
    "                              (prec(e)==(s[-1]) and asoc(e)=='L')):\n",
    "        result += s.pop()\n",
    "    s.append(e)\n",
    "while s:\n",
    "    result +=s.pop()\n",
    "print(result)"
   ]
  },
  {
   "cell_type": "markdown",
   "id": "af902f7f-8ada-4855-bf68-5b02a8483c22",
   "metadata": {},
   "source": [
    "In an Arcade game, a king got Spelled by a and has to take care of the sequence of his food intake whenever he eats.\n",
    "if he eats similar\n",
    "food one after the other it will cancel out its effect and total energy will decrease.\n",
    "your task is to determine the total energy of the king after his meal.\n",
    "\n",
    "--->Example:\n",
    "[\"apple\",\"Dal\",\""
   ]
  },
  {
   "cell_type": "code",
   "execution_count": 28,
   "id": "40af10c2-76a4-4dde-86cc-4e2b040c2987",
   "metadata": {},
   "outputs": [
    {
     "name": "stdin",
     "output_type": "stream",
     "text": [
      " roti\n"
     ]
    },
    {
     "name": "stdout",
     "output_type": "stream",
     "text": [
      "Total energy: 3\n"
     ]
    }
   ],
   "source": [
    "a=str(input())\n",
    "def final_energy(food_sequence):\n",
    "    # Initialize an empty stack\n",
    "    stack = []\n",
    "\n",
    "    # Iterate through the sequence\n",
    "    for food in food_sequence:\n",
    "        # If the stack is not empty and the last item is the same as the current food\n",
    "        if stack and stack[-1] == food:\n",
    "            # Pop the last item (cancel it out)\n",
    "            stack.pop()\n",
    "        else:\n",
    "            # Otherwise, add the current food to the stack\n",
    "            stack.append(food)\n",
    "\n",
    "    # The total energy is the length of the remaining stack\n",
    "    return len(stack)\n",
    "\n",
    "# Example usage\n",
    "food_sequence = \"ABBAACCBA\"\n",
    "print(\"Total energy:\", final_energy(food_sequence))\n"
   ]
  },
  {
   "cell_type": "code",
   "execution_count": 33,
   "id": "9aac64fa-8923-4834-87aa-14fa4b11bc39",
   "metadata": {},
   "outputs": [
    {
     "name": "stdin",
     "output_type": "stream",
     "text": [
      " a c d f s d w e q e w w \n"
     ]
    },
    {
     "name": "stdout",
     "output_type": "stream",
     "text": [
      "Total Energy : 4\n"
     ]
    }
   ],
   "source": [
    "a=str(input())\n",
    "def total_energy(food_sequence):\n",
    "    stack=[]\n",
    "    for i in food_sequence:\n",
    "        if stack and stack[-1] == food:\n",
    "            stack.pop()\n",
    "        else:\n",
    "            stack.append(i)\n",
    "    return len(stack)\n",
    "food_sequence = (\"apple\",\"dal\",\"chapati\",\"rice\")\n",
    "print(\"Total Energy :\",final_energy(food_sequence))\n"
   ]
  },
  {
   "cell_type": "code",
   "execution_count": 35,
   "id": "07119f74-3aa5-496f-8583-3469bcdb15e1",
   "metadata": {},
   "outputs": [
    {
     "ename": "SyntaxError",
     "evalue": "expected ':' (2029953375.py, line 9)",
     "output_type": "error",
     "traceback": [
      "\u001b[1;36m  Cell \u001b[1;32mIn[35], line 9\u001b[1;36m\u001b[0m\n\u001b[1;33m    else\u001b[0m\n\u001b[1;37m        ^\u001b[0m\n\u001b[1;31mSyntaxError\u001b[0m\u001b[1;31m:\u001b[0m expected ':'\n"
     ]
    }
   ],
   "source": [
    "a = [item for item in input().split()]\n",
    "print(a)\n",
    "s=[]\n",
    "for item in a :\n",
    "    if not s:\n",
    "        s.append(item)\n",
    "    elif s[-1] == item:\n",
    "        s.pop()\n",
    "    else\n",
    "        s.append(item)\n",
    "\n",
    "print(len(s),s)\n"
   ]
  },
  {
   "cell_type": "code",
   "execution_count": 4,
   "id": "4436a24c-5fe4-4253-ac4e-d492bde733cf",
   "metadata": {},
   "outputs": [
    {
     "name": "stdin",
     "output_type": "stream",
     "text": [
      " 4\n"
     ]
    },
    {
     "name": "stdout",
     "output_type": "stream",
     "text": [
      "Valid strings\n"
     ]
    }
   ],
   "source": [
    "s = input()\n",
    "x=y=z=0\n",
    "for c in s:\n",
    "    match (c):\n",
    "        case '(':x+=1\n",
    "        case ')':x-=1\n",
    "        case '{':y+=1\n",
    "        case '}':y-=1\n",
    "        case '[':z+=1\n",
    "        case ']':z-=1\n",
    "        case _:continue\n",
    "\n",
    "if x+y+z ==0:\n",
    "    print(\"Valid strings\")\n",
    "else:\n",
    "    print(\"invalid strings\")"
   ]
  },
  {
   "cell_type": "code",
   "execution_count": null,
   "id": "da888781-99ed-4609-9c63-8c311f114aa0",
   "metadata": {},
   "outputs": [],
   "source": [
    "exp = int()\n",
    "s =[]\n"
   ]
  },
  {
   "cell_type": "code",
   "execution_count": 5,
   "id": "1ec9349a-cd3b-4a93-a604-70933357b5e1",
   "metadata": {},
   "outputs": [
    {
     "ename": "SyntaxError",
     "evalue": "invalid syntax (822820470.py, line 4)",
     "output_type": "error",
     "traceback": [
      "\u001b[1;36m  Cell \u001b[1;32mIn[5], line 4\u001b[1;36m\u001b[0m\n\u001b[1;33m    if e == '(' or e ==\"{\" or == \"[\":\u001b[0m\n\u001b[1;37m                              ^\u001b[0m\n\u001b[1;31mSyntaxError\u001b[0m\u001b[1;31m:\u001b[0m invalid syntax\n"
     ]
    }
   ],
   "source": [
    "s = input()\n",
    "s=[]\n",
    "for e in a:\n",
    "    if e == '(' or e ==\"{\" or == \"[\":\n",
    "        s.append(e)\n",
    "    elif e == ')' or e ==\"}\" or == \"]\":\n",
    "        if e == s[-1]:\n",
    "            s.pop()\n",
    "        else:\n",
    "            break;\n",
    "    else:\n",
    "        continue\n",
    "\n",
    "if not s:\n",
    "    print(\"Valid\")\n",
    "\n",
    "else:\n",
    "    print(\"Invalid\")"
   ]
  },
  {
   "cell_type": "markdown",
   "id": "1c98da9a-29bd-4a8e-894d-9e87564a751e",
   "metadata": {},
   "source": [
    "RECURSIVE OR RECUURSSION FUNCTION"
   ]
  },
  {
   "cell_type": "markdown",
   "id": "d2d32d2b-a902-45b9-af01-8c71b8b8fe15",
   "metadata": {},
   "source": [
    "-----------> FUNCTIONS :\n",
    "def  fun(x):\n",
    "    if x==0:\n",
    "        return 'x'\n",
    "        print(x)\n",
    "        return  Fun(x-1)"
   ]
  },
  {
   "cell_type": "markdown",
   "id": "d8418ea6-9195-46a9-9808-08d0acea1ad2",
   "metadata": {},
   "source": [
    " Thusday: 25/04/2024"
   ]
  },
  {
   "cell_type": "code",
   "execution_count": 5,
   "id": "55c09898-f26c-4726-9d59-e8257d6911cd",
   "metadata": {},
   "outputs": [
    {
     "name": "stdout",
     "output_type": "stream",
     "text": [
      "2\n",
      "4\n",
      "6\n",
      "8\n",
      "10\n",
      "12\n",
      "14\n",
      "16\n",
      "18\n",
      "20\n"
     ]
    }
   ],
   "source": [
    "\n",
    "for i in range (1,11):\n",
    "    print(i*2)\n"
   ]
  },
  {
   "cell_type": "code",
   "execution_count": 9,
   "id": "3c3b75ef-570a-41c8-8b6f-d9c47cb0fbf5",
   "metadata": {},
   "outputs": [
    {
     "name": "stdout",
     "output_type": "stream",
     "text": [
      "2\n",
      "4\n",
      "6\n",
      "8\n",
      "10\n",
      "12\n",
      "14\n",
      "16\n",
      "18\n",
      "20\n"
     ]
    }
   ],
   "source": [
    "def fun(i):\n",
    "    if i==11:\n",
    "      return\n",
    "    print(i*2)\n",
    "    i=i+1\n",
    "    fun(i)\n",
    "    return\n",
    "\n",
    "fun(1)"
   ]
  },
  {
   "cell_type": "code",
   "execution_count": 10,
   "id": "4978af47-9857-4dc5-ba60-58450279cdc3",
   "metadata": {},
   "outputs": [
    {
     "ename": "IndentationError",
     "evalue": "unexpected indent (2680787134.py, line 2)",
     "output_type": "error",
     "traceback": [
      "\u001b[1;36m  Cell \u001b[1;32mIn[10], line 2\u001b[1;36m\u001b[0m\n\u001b[1;33m    for i in range(1,num+1):\u001b[0m\n\u001b[1;37m    ^\u001b[0m\n\u001b[1;31mIndentationError\u001b[0m\u001b[1;31m:\u001b[0m unexpected indent\n"
     ]
    }
   ],
   "source": [
    "num = int(input(\"Enter the factorial number\"))\n",
    "    for i in range(1,num+1):\n",
    "        factorial *=i\n",
    "\n",
    "print(\"Factorial of \" ,num,\"is\",factorial)                                                                     "
   ]
  },
  {
   "cell_type": "code",
   "execution_count": 13,
   "id": "82a2e97c-80f0-4e04-9ed3-2ad1a7e05e57",
   "metadata": {},
   "outputs": [
    {
     "name": "stdin",
     "output_type": "stream",
     "text": [
      "Enter the number 4\n"
     ]
    },
    {
     "name": "stdout",
     "output_type": "stream",
     "text": [
      "24\n"
     ]
    }
   ],
   "source": [
    "fact = 1\n",
    "n = int(input(\"Enter the number\"))\n",
    "for i in range(n,1,-1):\n",
    "    fact*=i\n",
    "\n",
    "print(fact)"
   ]
  },
  {
   "cell_type": "markdown",
   "id": "21b02860-b5f9-425b-b423-2f34eae2ddf6",
   "metadata": {},
   "source": [
    "Linked list"
   ]
  },
  {
   "cell_type": "code",
   "execution_count": 4,
   "id": "22df74b5-c53c-4755-9cd1-b8ebd83ec67f",
   "metadata": {},
   "outputs": [
    {
     "name": "stdout",
     "output_type": "stream",
     "text": [
      "a= <__main__.node object at 0x0000021A4ED6F320>\n",
      "b= <__main__.node object at 0x0000021A4ED87C20>\n",
      "c= <__main__.node object at 0x0000021A4ED87B30>\n",
      "d= <__main__.node object at 0x0000021A4ED84560>\n"
     ]
    }
   ],
   "source": [
    "#linked list\n",
    "\n",
    "class node:\n",
    "    def __init__(self,valve):\n",
    "        self.data=valve\n",
    "        self.next=None\n",
    "\n",
    "a=node(\"apple\")\n",
    "b=node(\"book\")\n",
    "c=node(\"cat\")\n",
    "d=node(\"dog\")\n",
    "\n",
    "head=a\n",
    "head.next=b\n",
    "head.next.next=c\n",
    "head.next.next.next=d\n",
    "\n",
    "print(\"a=\",a)\n",
    "print(\"b=\",b)\n",
    "print(\"c=\",c)\n",
    "print(\"d=\",d)\n"
   ]
  },
  {
   "cell_type": "code",
   "execution_count": 5,
   "id": "fb8fde3e-3ce0-4754-a470-2ebeb6999bfd",
   "metadata": {},
   "outputs": [
    {
     "name": "stdout",
     "output_type": "stream",
     "text": [
      "<__main__.node object at 0x0000021A4ED84560> --->\n"
     ]
    }
   ],
   "source": [
    "print(head.next.next.next,\"--->\")"
   ]
  },
  {
   "cell_type": "code",
   "execution_count": 7,
   "id": "089234ef-5e70-4f40-8115-a0de6113e564",
   "metadata": {},
   "outputs": [
    {
     "name": "stdout",
     "output_type": "stream",
     "text": [
      "Node 1 <__main__.node object at 0x0000021A4ED238F0> 1\n"
     ]
    },
    {
     "ename": "AttributeError",
     "evalue": "'builtin_function_or_method' object has no attribute 'data'",
     "output_type": "error",
     "traceback": [
      "\u001b[1;31m---------------------------------------------------------------------------\u001b[0m",
      "\u001b[1;31mAttributeError\u001b[0m                            Traceback (most recent call last)",
      "Cell \u001b[1;32mIn[7], line 12\u001b[0m\n\u001b[0;32m      9\u001b[0m head\u001b[38;5;241m.\u001b[39mnext\u001b[38;5;241m.\u001b[39mnext\u001b[38;5;241m.\u001b[39mnext\u001b[38;5;241m=\u001b[39mnode(\u001b[38;5;241m4\u001b[39m)\n\u001b[0;32m     11\u001b[0m \u001b[38;5;28mprint\u001b[39m(\u001b[38;5;124m\"\u001b[39m\u001b[38;5;124mNode 1\u001b[39m\u001b[38;5;124m\"\u001b[39m,head,head\u001b[38;5;241m.\u001b[39mdata)\n\u001b[1;32m---> 12\u001b[0m \u001b[38;5;28mprint\u001b[39m(\u001b[38;5;124m\"\u001b[39m\u001b[38;5;124mNode 2\u001b[39m\u001b[38;5;124m\"\u001b[39m,head\u001b[38;5;241m.\u001b[39mnext,head,\u001b[38;5;28;43mnext\u001b[39;49m\u001b[38;5;241;43m.\u001b[39;49m\u001b[43mdata\u001b[49m)\n\u001b[0;32m     13\u001b[0m \u001b[38;5;28mprint\u001b[39m(\u001b[38;5;124m\"\u001b[39m\u001b[38;5;124mNode 3\u001b[39m\u001b[38;5;124m\"\u001b[39m,head\u001b[38;5;241m.\u001b[39mnext\u001b[38;5;241m.\u001b[39mnext,head\u001b[38;5;241m.\u001b[39mnext\u001b[38;5;241m.\u001b[39mnext\u001b[38;5;241m.\u001b[39mdata)\n\u001b[0;32m     14\u001b[0m \u001b[38;5;28mprint\u001b[39m(\u001b[38;5;124m\"\u001b[39m\u001b[38;5;124mNode 4\u001b[39m\u001b[38;5;124m\"\u001b[39m,head\u001b[38;5;241m.\u001b[39mnext\u001b[38;5;241m.\u001b[39mnext\u001b[38;5;241m.\u001b[39mnext,head\u001b[38;5;241m.\u001b[39mnext\u001b[38;5;241m.\u001b[39mnext\u001b[38;5;241m.\u001b[39mnext\u001b[38;5;241m.\u001b[39mdata)\n",
      "\u001b[1;31mAttributeError\u001b[0m: 'builtin_function_or_method' object has no attribute 'data'"
     ]
    }
   ],
   "source": [
    "class node:\n",
    "    def __init__(self,valve):\n",
    "        self.data=valve\n",
    "        self.next=None\n",
    "\n",
    "head = node(1)\n",
    "head.next=node(2)\n",
    "head.next.next=node(3)\n",
    "head.next.next.next=node(4)\n",
    "\n",
    "print(\"Node 1\",head,head.data)\n",
    "print(\"Node 2\",head.next,head,next.data)\n",
    "print(\"Node 3\",head.next.next,head.next.next.data)\n",
    "print(\"Node 4\",head.next.next.next,head.next.next.next.data)"
   ]
  },
  {
   "cell_type": "code",
   "execution_count": null,
   "id": "7e4b5962-4169-4b48-9313-6182beb0c825",
   "metadata": {},
   "outputs": [],
   "source": []
  }
 ],
 "metadata": {
  "kernelspec": {
   "display_name": "Python 3 (ipykernel)",
   "language": "python",
   "name": "python3"
  },
  "language_info": {
   "codemirror_mode": {
    "name": "ipython",
    "version": 3
   },
   "file_extension": ".py",
   "mimetype": "text/x-python",
   "name": "python",
   "nbconvert_exporter": "python",
   "pygments_lexer": "ipython3",
   "version": "3.12.3"
  }
 },
 "nbformat": 4,
 "nbformat_minor": 5
}
