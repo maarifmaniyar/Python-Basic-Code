{
 "cells": [
  {
   "cell_type": "markdown",
   "id": "5fd771e6-19e9-4c8d-93c1-825c13f0aeca",
   "metadata": {},
   "source": [
    "19/04/2024\n",
    "W----> Write\n",
    "R----> Read\n",
    "a----> append\n",
    "W+----> Write and read\n",
    "R+---> Read and write\n",
    "a+----> append and read\n"
   ]
  },
  {
   "cell_type": "code",
   "execution_count": 2,
   "id": "a2e8a0e2-0eb8-453e-bbc9-fa9a80747403",
   "metadata": {},
   "outputs": [
    {
     "ename": "SyntaxError",
     "evalue": "invalid syntax (678673085.py, line 1)",
     "output_type": "error",
     "traceback": [
      "\u001b[1;36m  Cell \u001b[1;32mIn[2], line 1\u001b[1;36m\u001b[0m\n\u001b[1;33m    import os(downloads)\u001b[0m\n\u001b[1;37m             ^\u001b[0m\n\u001b[1;31mSyntaxError\u001b[0m\u001b[1;31m:\u001b[0m invalid syntax\n"
     ]
    }
   ],
   "source": [
    "import os(downloads)\n",
    "try:\n",
    "    with open(\"Fruit_Name.txt\",'w') as f:\n",
    "        n = [x in input(\"Enter the fruit name\")\n",
    "        \n",
    "    "
   ]
  },
  {
   "cell_type": "code",
   "execution_count": null,
   "id": "9b678fb1-12de-43cf-8578-f9584965465f",
   "metadata": {},
   "outputs": [],
   "source": [
    "import os\n",
    "with open (\"Fruit_names.txt\",as f:\n",
    "    x=f.read()\n",
    "    print(x)\n",
    "    a = input(\"Enter the name you want to replace\")\n",
    "    b = input(\"Enter the new name\")\n",
    "    x=x.replace(a,b)\n",
    "    f.close()\n",
    "with open(\"Fruit_names.txt\",'r') as f:\n",
    "    f.write()\n",
    "    "
   ]
  },
  {
   "cell_type": "code",
   "execution_count": null,
   "id": "9a8cc06d-5070-4861-9f67-21106f42b783",
   "metadata": {},
   "outputs": [],
   "source": [
    "except FilenotfoundError:\n",
    "    print(\"File dosent exit\")"
   ]
  },
  {
   "cell_type": "code",
   "execution_count": null,
   "id": "faa4b303-1f99-4e0f-97e4-311096fd14b2",
   "metadata": {},
   "outputs": [],
   "source": [
    "import os\n",
    "with open(\"Sample.txt\",'w') as f:\n",
    "    pass \n",
    "          "
   ]
  },
  {
   "cell_type": "markdown",
   "id": "ccd74bb6-1696-4736-b750-c68e26c6ee96",
   "metadata": {},
   "source": [
    "----------> OOPS Concepts>\n",
    " "
   ]
  },
  {
   "cell_type": "code",
   "execution_count": 3,
   "id": "c383244f-d264-4326-a9d4-cab3a48984fa",
   "metadata": {},
   "outputs": [
    {
     "name": "stdout",
     "output_type": "stream",
     "text": [
      "<class 'int'>\n"
     ]
    }
   ],
   "source": [
    "a = 5\n",
    "print(type(a))"
   ]
  },
  {
   "cell_type": "code",
   "execution_count": 4,
   "id": "5c82b176-270b-4378-9509-e3cae9db851e",
   "metadata": {},
   "outputs": [
    {
     "name": "stdout",
     "output_type": "stream",
     "text": [
      "This is a laptop consisting of 16GB Ram and 1Tb of SSD\n"
     ]
    }
   ],
   "source": [
    "class laptop:\n",
    "    def config(self):\n",
    "        print(\"This is a laptop consisting of 16GB Ram and 1Tb of SSD\")\n",
    "\n",
    "hp = laptop()\n",
    "\n",
    "hp.config()\n",
    "        "
   ]
  },
  {
   "cell_type": "code",
   "execution_count": 5,
   "id": "74ca10dd-859a-465c-ba56-6c1f0d3fc7fb",
   "metadata": {},
   "outputs": [
    {
     "name": "stdout",
     "output_type": "stream",
     "text": [
      "This is a laptop consisting of 16GB Ram and 1Tb of SSD\n"
     ]
    }
   ],
   "source": [
    "class laptop:\n",
    "    def config(self):\n",
    "        print(\"This is a laptop consisting of 16GB Ram and 1Tb of SSD\")\n",
    "\n",
    "hp = laptop()\n",
    "\n",
    "hp.config()\n",
    "\n"
   ]
  },
  {
   "cell_type": "code",
   "execution_count": 6,
   "id": "55281a80-bee2-4673-a777-0faebfa27a25",
   "metadata": {},
   "outputs": [
    {
     "name": "stdout",
     "output_type": "stream",
     "text": [
      "This is a laptop consisting of 16GB Ram and 1Tb of SSD\n",
      "0\n"
     ]
    }
   ],
   "source": [
    "class laptop:\n",
    "    a = 0\n",
    "    def config(self):\n",
    "        print(\"This is a laptop consisting of 16GB Ram and 1Tb of SSD\")\n",
    "\n",
    "hp = laptop()\n",
    "\n",
    "hp.config()\n",
    "print(hp.a)\n",
    "        "
   ]
  },
  {
   "cell_type": "code",
   "execution_count": null,
   "id": "2f570a3d-2f3b-44b8-8f08-89c68c89ec28",
   "metadata": {},
   "outputs": [],
   "source": [
    "class laptop:\n",
    "    a=0\n",
    "    def config(self):\n",
    "        print(\"This is a laptop consisting of 16GB Ram and 1Tb of SSD\")\n",
    "\n",
    "    def _init_(self,valve):\n",
    "        self.b=valve\n",
    "\n",
    "hp = laptop(20)\n",
    "\n",
    "print(hp.a)\n",
    "print(hp.b)\n",
    "\n",
    "        "
   ]
  },
  {
   "cell_type": "code",
   "execution_count": null,
   "id": "0e94c820-d96d-4654-a0af-d09ef063bf44",
   "metadata": {},
   "outputs": [],
   "source": [
    "Create a laptop class \n",
    "with variables such as processor, Ram, and Storage\n",
    "\n",
    "---->Create a Function to print the configuration of the laptops.\n",
    "\n",
    "---->Create 3 Objects of laptops with different brands and display their configuration"
   ]
  },
  {
   "cell_type": "code",
   "execution_count": 8,
   "id": "652e6055-44e1-4970-a020-11001417c8c8",
   "metadata": {},
   "outputs": [
    {
     "name": "stdout",
     "output_type": "stream",
     "text": [
      "Configuration of the laptop is :\n",
      "Processor i5\n",
      "Ram 8\n",
      "Storage 512\n"
     ]
    }
   ],
   "source": [
    "class laptop():\n",
    "    def __init__(self,p,r,s):\n",
    "        self.Processor= p\n",
    "        self.Ram=r\n",
    "        self.Storage=s\n",
    "\n",
    "    def config(self):\n",
    "        print(\"Configuration of the laptop is :\")\n",
    "        print(\"Processor\",self.Processor)\n",
    "        print(\"Ram\",self.Ram)\n",
    "        print(\"Storage\",self.Storage)\n",
    "\n",
    "if __name__==\"__main__\":\n",
    "    hp = laptop(\"i5\",8,512)\n",
    "    hp.config()"
   ]
  },
  {
   "cell_type": "code",
   "execution_count": null,
   "id": "a28d68e1-adda-4c02-8a73-048d1e9eb651",
   "metadata": {},
   "outputs": [],
   "source": [
    "Create a Class student which can hold the marks in 5 Subjects and also create a functions to print the marks and calculate the avg of 5 subjects."
   ]
  },
  {
   "cell_type": "code",
   "execution_count": 11,
   "id": "1c4dddd8-0392-4d7f-aec8-1f3dd8015aae",
   "metadata": {},
   "outputs": [
    {
     "name": "stdout",
     "output_type": "stream",
     "text": [
      "Marks of Maarif:\n",
      "Subject 1: 80\n",
      "Subject 2: 75\n",
      "Subject 3: 90\n",
      "Subject 4: 85\n",
      "Subject 5: 88\n",
      "Average marks of Maarif: 83.6\n"
     ]
    }
   ],
   "source": [
    "class Student:\n",
    "    def __init__(self, name, marks):\n",
    "        self.name = name\n",
    "        self.marks = marks\n",
    "\n",
    "    def print_marks(self):\n",
    "        print(f\"Marks of {self.name}:\")\n",
    "        for i, subject_mark in enumerate(self.marks, 1):\n",
    "            print(f\"Subject {i}: {subject_mark}\")\n",
    "\n",
    "    def calculate_average(self):\n",
    "        total_marks = sum(self.marks)\n",
    "        average = total_marks / len(self.marks)\n",
    "        print(f\"Average marks of {self.name}: {average}\")\n",
    "\n",
    "student1 = Student(\"Maarif\", [80, 75, 90, 85, 88])\n",
    "student1.print_marks()\n",
    "student1.calculate_average()\n"
   ]
  },
  {
   "cell_type": "code",
   "execution_count": null,
   "id": "fe66f52e-99d2-4279-b4cb-15000628f88e",
   "metadata": {},
   "outputs": [],
   "source": [
    "#Access Modifiers\n",
    "#Public Normal\n",
    "#Protected we use single underscore _\n",
    "#Privite we use double underscore __\n"
   ]
  },
  {
   "cell_type": "code",
   "execution_count": null,
   "id": "ba5bfe73-8fa9-472d-9aea-e6e338874305",
   "metadata": {},
   "outputs": [],
   "source": [
    "#Access Modifiers\n",
    "#Public Normal\n",
    "#Protected we use single underscore _\n",
    "#Privite we use double underscore __\n",
    "#Example program\n",
    "\n",
    "class demo:\n",
    "    def __init__(self,a,b,c):\n",
    "        self.x=a\n",
    "        self.__y=b\n",
    "        self.__z=c\n",
    "    def output_z(self):\n",
    "        print(self.__) \n",
    "ob1= demo(1,2,3)\n",
    "ob1.output_x()\n",
    "ob1.output_y()\n",
    "ob1.output_z()\n",
    "\n",
    "print(\"Public Variable:\"ob1.x)\n",
    "print(\"protected"
   ]
  },
  {
   "cell_type": "code",
   "execution_count": null,
   "id": "0c52b9cb-79e2-4e9b-8749-f6af30c2ef07",
   "metadata": {},
   "outputs": [],
   "source": [
    "class demo\n",
    "    def __init__(self,a,b,c):\n",
    "        self.x=a\n",
    "        self._y=b\n",
    "        self.__z=c\n",
    "        "
   ]
  },
  {
   "cell_type": "code",
   "execution_count": 2,
   "id": "8acacd1f-3fdb-4877-8a55-5d61fb576be0",
   "metadata": {},
   "outputs": [
    {
     "name": "stdout",
     "output_type": "stream",
     "text": [
      "this is fun1\n",
      "this is fun2\n",
      "this is fun3\n",
      "this is fun4\n"
     ]
    }
   ],
   "source": [
    "class a:\n",
    "    def fun1(self):\n",
    "        print(\"this is fun1\")\n",
    "    def fun2(self):\n",
    "        print(\"this is fun2\")\n",
    "class b:\n",
    "     def fun3(self):\n",
    "        print(\"this is fun3\")\n",
    "     def fun4(self):\n",
    "        print(\"this is fun4\")\n",
    "if __name__==\"__main__\":\n",
    "    ob1=a()\n",
    "    ob2=b()\n",
    "    ob1.fun1()\n",
    "    ob1.fun2()\n",
    "    ob2.fun3()\n",
    "    ob2.fun4()\n",
    "    \n",
    "    "
   ]
  },
  {
   "cell_type": "code",
   "execution_count": 3,
   "id": "186faebf-ea0e-48fd-b29c-f3d1d85f8a4c",
   "metadata": {},
   "outputs": [
    {
     "name": "stdout",
     "output_type": "stream",
     "text": [
      "this is fun1\n",
      "this is fun2\n",
      "this is fun2\n",
      "this is fun4\n"
     ]
    }
   ],
   "source": [
    "class a:\n",
    "    def fun1(self):\n",
    "        print(\"this is fun1\")\n",
    "    def fun2(self):\n",
    "        print(\"this is fun2\")\n",
    "class b(a):\n",
    "     def fun3(self):\n",
    "        print(\"this is fun3\")\n",
    "     def fun4(self):\n",
    "        print(\"this is fun4\")\n",
    "if __name__==\"__main__\":\n",
    "    ob1=a()\n",
    "    ob2=b()\n",
    "    ob1.fun1()\n",
    "    ob1.fun2()\n",
    "    ob2.fun2()\n",
    "    ob2.fun4()"
   ]
  },
  {
   "cell_type": "code",
   "execution_count": 4,
   "id": "4381faae-5605-46e1-8976-054216db2509",
   "metadata": {},
   "outputs": [
    {
     "name": "stdout",
     "output_type": "stream",
     "text": [
      "constructor\n",
      "<class '__main__.a'> <class '__main__.b'>\n"
     ]
    }
   ],
   "source": [
    "class c:\n",
    "    def __init__(self):\n",
    "        print(\"constructor\")\n",
    "        self.x=a\n",
    "        self.y=b\n",
    "        print(self.x,self.y)\n",
    "        \n",
    "ob=c()\n"
   ]
  },
  {
   "cell_type": "code",
   "execution_count": 5,
   "id": "cac2c5c0-cc0f-4b1e-9723-c1175a4570e6",
   "metadata": {},
   "outputs": [
    {
     "name": "stdout",
     "output_type": "stream",
     "text": [
      "profii 512 5000 ram itel 8\n",
      "gaminglaptop ryzen 12 512 nevdia\n"
     ]
    }
   ],
   "source": [
    "class laptop:\n",
    "    def __init__(self,process,ram,storage):\n",
    "        self.process=process\n",
    "        self.ram=ram\n",
    "        self.storage=storage\n",
    "\n",
    "class profeesionallaptop(laptop):\n",
    "    def __init__(self,battery,backup,process,ram,storage):\n",
    "        self.battery=battery\n",
    "        self.backup=backup\n",
    "        super().__init__(process,ram,storage)\n",
    "class gaminglaptop(laptop):\n",
    "    def __init__(self,process,ram,storage,gc):\n",
    "        self.graphiccard=gc\n",
    "        super().__init__(process,ram,storage)\n",
    "\n",
    "pro=profeesionallaptop(\"itel\",8,512,5000,\"ram\")\n",
    "gm=gaminglaptop(\"ryzen\",12,512,\"nevdia\")\n",
    "print(\"profii\",pro.process,pro.ram,pro.storage,pro.battery,pro.backup)\n",
    "print(\"gaminglaptop\",gm.process,gm.ram,gm.storage,gm.graphiccard)\n"
   ]
  },
  {
   "cell_type": "code",
   "execution_count": 6,
   "id": "8f0410b1-3e85-47e7-9080-c1cdab7235ae",
   "metadata": {},
   "outputs": [],
   "source": [
    "class ticket:\n",
    "     def __init__(self,s,d,date,name):\n",
    "         self.source=s\n",
    "         self.destination=d\n",
    "         self.date=date\n",
    "         self.name=name\n",
    "class general(ticket):\n",
    "     def __init__(self,s,d,date,name):\n",
    "         super().__init__(self,s,d,date,name)"
   ]
  },
  {
   "cell_type": "code",
   "execution_count": 8,
   "id": "529cd59b-36c2-4ff2-adcb-5305d870f4b3",
   "metadata": {},
   "outputs": [
    {
     "ename": "TypeError",
     "evalue": "FC() takes no arguments",
     "output_type": "error",
     "traceback": [
      "\u001b[1;31m---------------------------------------------------------------------------\u001b[0m",
      "\u001b[1;31mTypeError\u001b[0m                                 Traceback (most recent call last)",
      "Cell \u001b[1;32mIn[8], line 39\u001b[0m\n\u001b[0;32m     35\u001b[0m         \u001b[38;5;28mself\u001b[39m\u001b[38;5;241m.\u001b[39mfarePrice\u001b[38;5;241m=\u001b[39m\u001b[38;5;28msuper\u001b[39m()\u001b[38;5;241m.\u001b[39mprint_ticket()\u001b[38;5;241m+\u001b[39m(\u001b[38;5;241m5\u001b[39m\u001b[38;5;241m*\u001b[39m\u001b[38;5;28mself\u001b[39m\u001b[38;5;241m.\u001b[39mdistance)\n\u001b[0;32m     36\u001b[0m         \u001b[38;5;28;01mreturn\u001b[39;00m \u001b[38;5;28mself\u001b[39m\u001b[38;5;241m.\u001b[39mfarePrice\n\u001b[1;32m---> 39\u001b[0m jur \u001b[38;5;241m=\u001b[39m \u001b[43mFC\u001b[49m\u001b[43m(\u001b[49m\u001b[38;5;241;43m500\u001b[39;49m\u001b[43m)\u001b[49m\n\u001b[0;32m     40\u001b[0m \u001b[38;5;28mprint\u001b[39m(\u001b[38;5;124m\"\u001b[39m\u001b[38;5;124mTicket booked Fare Price will be: \u001b[39m\u001b[38;5;124m\"\u001b[39m,jur\u001b[38;5;241m.\u001b[39mprint_ticket())\n",
      "\u001b[1;31mTypeError\u001b[0m: FC() takes no arguments"
     ]
    }
   ],
   "source": [
    "class ticket:\n",
    "   \n",
    "    def _init_(self,D):\n",
    "        self.distance = int(D)\n",
    "        self.farePrice = None\n",
    "\n",
    "class gen(ticket):\n",
    "    def _init_(self,D):\n",
    "        super()._init_(D)\n",
    "    def print_ticket(self):\n",
    "        self.farePrice=50+(self.distance*2)\n",
    "        return self.farePrice\n",
    "        \n",
    "\n",
    "\n",
    "class slp(gen):\n",
    "    def _init_(self,D):\n",
    "        super()._init_(D)\n",
    "\n",
    "    def print_ticket(self):\n",
    "        self.farePrice=super().print_ticket()+(2*self.distance)\n",
    "        return self.farePrice\n",
    "\n",
    "class AC(slp):\n",
    "    def _init_(self,D):\n",
    "        super()._init_(D)\n",
    "    def print_ticket(self):\n",
    "        self.farePrice=super().print_ticket()+(4*self.distance)\n",
    "        return self.farePrice\n",
    "\n",
    "class FC(AC):\n",
    "    def _init_(self,D):\n",
    "        super()._init_(D)\n",
    "    def print_ticket(self):\n",
    "        self.farePrice=super().print_ticket()+(5*self.distance)\n",
    "        return self.farePrice\n",
    "\n",
    "\n",
    "jur = FC(500)\n",
    "print(\"Ticket booked Fare Price will be: \",jur.print_ticket())"
   ]
  },
  {
   "cell_type": "code",
   "execution_count": null,
   "id": "b03045ad-74e6-4a9f-aa30-36cef0f316f5",
   "metadata": {},
   "outputs": [],
   "source": [
    "class vehicle:\n",
    "    def __init__(self,Engine,plate,color,price)\n",
    "        self. Engine\n",
    "        self. plate\n",
    "        self. Color\n",
    "        self. Price\n",
    "class car:\n",
    "    def __init__(self,Type,Number of passenger,Max speed)\n",
    "        self.type\n",
    "        self.numberofpassengers\n",
    "        self.maxspeed\n"
   ]
  },
  {
   "cell_type": "code",
   "execution_count": null,
   "id": "02d8c07f-49dc-424a-b148-c7e72e6b72e8",
   "metadata": {},
   "outputs": [],
   "source": [
    "class vehicle:\n",
    "   \n",
    "    def _init_(self,D):\n",
    "        self.car = int(D)\n",
    "        self.truck= None\n",
    "\n",
    "class car:\n",
    "    def _init_(self,D):\n",
    "        super()._init_(D)\n",
    "    def print_car(self):\n",
    "        self.truct=50+(self.distance*2)\n",
    "        return self.farePrice\n",
    "        \n",
    "\n",
    "\n",
    "class slp(gen):\n",
    "    def _init_(self,D):\n",
    "        super()._init_(D)\n",
    "\n",
    "    def print_ticket(self):\n",
    "        self.farePrice=super().print_ticket()+(2*self.distance)\n",
    "        return self.farePrice\n",
    "\n",
    "class AC(slp):\n",
    "    def _init_(self,D):\n",
    "        super()._init_(D)\n",
    "    def print_ticket(self):\n",
    "        self.farePrice=super().print_ticket()+(4*self.distance)\n",
    "        return self.farePrice\n",
    "\n",
    "class FC(AC):\n",
    "    def _init_(self,D):\n",
    "        super()._init_(D)\n",
    "    def print_ticket(self):\n",
    "        self.farePrice=super().print_ticket()+(5*self.distance)\n",
    "        return self.farePrice\n",
    "\n",
    "\n",
    "jur = FC(500)\n",
    "print(\"Ticket booked Fare Price will be: \",jur.print_ticket())"
   ]
  },
  {
   "cell_type": "markdown",
   "id": "61863745-771f-4d64-be12-37f8b59a0dc1",
   "metadata": {},
   "source": [
    "20/04/2024\n"
   ]
  },
  {
   "cell_type": "code",
   "execution_count": 11,
   "id": "853eaf42-cad9-4270-8fde-7428b64ce17e",
   "metadata": {},
   "outputs": [
    {
     "name": "stdout",
     "output_type": "stream",
     "text": [
      "car have 1000cc ka34567 100000 red topend 7 200\n",
      "truck have 910cc ka34768 10000000 white 12 10000\n"
     ]
    }
   ],
   "source": [
    "class vehicle:\n",
    "    def __init__(self,engine,regplate,price,colour):\n",
    "        self.engine=engine\n",
    "        self.regplate=regplate\n",
    "        self.price=price\n",
    "        self.colour=colour\n",
    "    \n",
    "class car(vehicle):\n",
    "     def __init__(self,engine,regplate,price,colour,Type,passengers,speed):\n",
    "         self.Type=Type\n",
    "         self.passengers=passengers\n",
    "         self.speed=speed\n",
    "         super().__init__(engine,regplate,price,colour)\n",
    "class truck(vehicle):\n",
    "     def __init__(self,engine,regplate,price,colour,axle,capacity):\n",
    "         self.axle=axle\n",
    "         self.capacity=capacity\n",
    "         super().__init__(engine,regplate,price,colour)\n",
    "c=car(\"1000cc\",\"ka34567\",100000,\"red\",\"topend\",7,200)\n",
    "t=truck(\"910cc\",\"ka34768\",10000000,\"white\",12,\"10000\")\n",
    "print(\"car have\",c.engine,c.regplate,c.price,c.colour,c.Type,c.passengers,c.speed)\n",
    "print(\"truck have\",t.engine,t.regplate,t.price,t.colour,t.axle,t.capacity)"
   ]
  },
  {
   "cell_type": "code",
   "execution_count": null,
   "id": "124cf61c-65d8-4388-b3b4-d4a9acdd1459",
   "metadata": {},
   "outputs": [],
   "source": [
    "class employ:\n",
    "    def __init__(self,eid,ename,salary,staf,developer,manager):\n",
    "        self. eid=eid\n",
    "        self. ename=ename\n",
    "        self. salary=salary\n",
    "        self. staf=staf\n",
    "        self. developer=developer\n",
    "        self. manager=manager\n",
    "class staf(employ):\n",
    "    def __init__(self,eid,ename,salary,worktype,workarea):\n",
    "        self. worktype=worktype\n",
    "        self. workarea=workarea\n",
    "        super().__init__(self,eid,ename,salary,worktype,workarea)\n",
    "\n",
    "\n",
    "class developer(employ):\n",
    "     def __init__(self,eid,ename,salary,module,tech,experience):\n",
    "        self. module=module\n",
    "        self. tech=tech\n",
    "        self. experience=experience\n",
    "        super().__init__(self,eid,ename,salary,module,tech,experiance)\n",
    "\n",
    "\n",
    "class manager(employ):\n",
    "     def __init__(self,eid,ename,salary,manager,project,clientname):\n",
    "        self. project=project\n",
    "        self. clientname=clientname\n",
    "        super().__init__(self,eid,ename,salary,manager,project,clientname)\n",
    "\n",
    "s=staf(\"EMP21\",\"Zaheer\",\"1,20,000\",\"Software Developer\",\"Admin block\")\n",
    "d=developer(\"EMP22\",\":Sahid\",\"80,000\",\"IT Sector\",\"hardware\",\"10 years\")\n",
    "m=manager(\"EMP34\",\"zaben\",\"2,00,000\",\"Cloud management\",\"Zaben\")\n",
    "print(\"The Staff Details are:\",s.eid,s.ename,s.salary,s.worktype,s.workarea)\n",
    "print(\"The Developer details are:\",d.eid,d.ename,d.salary,d.module,d.tech,d.experience)\n",
    "print(\"The Manager details are:\",m.eid,m.ename,m.salary,m.project,m.clientname)\n"
   ]
  },
  {
   "cell_type": "code",
   "execution_count": 60,
   "id": "4f82ce66-e357-4312-ad92-eaffc1637869",
   "metadata": {},
   "outputs": [
    {
     "name": "stdin",
     "output_type": "stream",
     "text": [
      "Enter the size of the square box:  07\n"
     ]
    },
    {
     "name": "stdout",
     "output_type": "stream",
     "text": [
      "*******\n",
      "*     *\n",
      "*     *\n",
      "*     *\n",
      "*     *\n",
      "*     *\n",
      "*******\n"
     ]
    }
   ],
   "source": [
    "size = int(input(\"Enter the size of the square box: \"))\n",
    "\n",
    "if size < 2:\n",
    "    print(\"Size must be 2 or greater\")\n",
    "else:\n",
    "\n",
    "    print(\"*\" * size)\n",
    "\n",
    "    for _ in range(size - 2):\n",
    "        print(\"*\" + \" \" * (size - 2) + \"*\")\n",
    "\n",
    "    print(\"*\" * size)"
   ]
  },
  {
   "cell_type": "code",
   "execution_count": 56,
   "id": "2fa3b887-38cb-4409-911c-c89bb79bddb2",
   "metadata": {},
   "outputs": [
    {
     "name": "stdout",
     "output_type": "stream",
     "text": [
      "* \n",
      "* * \n",
      "* * * \n",
      "* * * * \n",
      "* * * * * \n"
     ]
    }
   ],
   "source": [
    "\n",
    "  for y in range(0,5):\n",
    "    for x in range(0,y+1):\n",
    "        print(\"*\", end=\" \")\n",
    "    print()"
   ]
  },
  {
   "cell_type": "code",
   "execution_count": 47,
   "id": "6adcbae5-079a-4ba8-9f9c-8805091e3242",
   "metadata": {},
   "outputs": [
    {
     "name": "stdin",
     "output_type": "stream",
     "text": [
      "Enter the number of rows for the triangle:  06\n"
     ]
    },
    {
     "name": "stdout",
     "output_type": "stream",
     "text": [
      "     *\n",
      "    ***\n",
      "   *****\n",
      "  *******\n",
      " *********\n",
      "***********\n"
     ]
    }
   ],
   "source": [
    "rows = int(input(\"Enter the number of rows for the triangle: \"))\n",
    "\n",
    "for i in range(1, rows + 1):\n",
    "    print(\" \" * (rows - i) + \"*\" * (2 * i - 1))\n"
   ]
  },
  {
   "cell_type": "code",
   "execution_count": 57,
   "id": "298bb590-9e4d-4144-8cb1-135304c5560e",
   "metadata": {
    "scrolled": true
   },
   "outputs": [
    {
     "name": "stdin",
     "output_type": "stream",
     "text": [
      "Enter the number of rows: 12\n"
     ]
    },
    {
     "name": "stdout",
     "output_type": "stream",
     "text": [
      "********************\n",
      "********************\n",
      "********************\n",
      "********************\n",
      "********************\n",
      "********************\n",
      "********************\n",
      "********************\n",
      "********************\n"
     ]
    }
   ],
   "source": [
    "rows = int(input(\"Enter the number of rows:\"))\n",
    "for x in range (1,10):\n",
    "    for y in range(1,20+1):\n",
    "        print(\"*\",end=\"\")\n",
    "    print()"
   ]
  },
  {
   "cell_type": "code",
   "execution_count": 63,
   "id": "7bd9d647-4953-4a6e-8065-8ddfd1e50da4",
   "metadata": {},
   "outputs": [
    {
     "name": "stdout",
     "output_type": "stream",
     "text": [
      "*     *\n",
      "*******\n",
      "*     *\n",
      "*******\n",
      "*     *\n",
      "*******\n",
      "*     *\n",
      "*******\n",
      "*     *\n",
      "*******\n"
     ]
    }
   ],
   "source": [
    "for _ in range(size - 2):\n",
    "        print(\"*\" + \" \" * (size - 2) + \"*\")\n",
    "\n",
    "        print(\"*\" * size)"
   ]
  },
  {
   "cell_type": "code",
   "execution_count": 65,
   "id": "ed552a40-d4d2-4800-b8d7-d386a565e003",
   "metadata": {},
   "outputs": [
    {
     "name": "stdin",
     "output_type": "stream",
     "text": [
      "Enter the size of the 'K' shape matrix:  10\n"
     ]
    },
    {
     "name": "stdout",
     "output_type": "stream",
     "text": [
      "*         \n",
      "*         \n",
      "*         \n",
      "*         \n",
      "*    *    \n",
      "*   *     \n",
      "*  *      \n",
      "* *       \n",
      "**    *   \n",
      "*      *  \n"
     ]
    }
   ],
   "source": [
    "size = int(input(\"Enter the size of the 'K' shape matrix: \"))\n",
    "\n",
    "for i in range(size):\n",
    "    for j in range(size):\n",
    "        if j == 0 or (i == j + 2 and j > size // 2) or (i == size - j - 1 and j <= size // 2):\n",
    "            print(\"*\", end=\"\")\n",
    "        else:\n",
    "            print(\" \", end=\"\")\n",
    "    print()\n"
   ]
  },
  {
   "cell_type": "code",
   "execution_count": 66,
   "id": "5384a672-d057-4cf8-a3a9-61d59c894fe0",
   "metadata": {},
   "outputs": [
    {
     "name": "stdin",
     "output_type": "stream",
     "text": [
      "Enter the size of the butterfly shape matrix:  12\n"
     ]
    },
    {
     "name": "stdout",
     "output_type": "stream",
     "text": [
      "************************\n",
      "************************\n",
      "************************\n",
      "************************\n",
      "************************\n",
      "************************\n",
      "************************\n",
      "************************\n",
      "************************\n",
      "************************\n",
      "************************\n",
      "************************\n"
     ]
    }
   ],
   "source": [
    "size = int(input(\"Enter the size of the butterfly shape matrix: \"))\n",
    "\n",
    "for i in range(size):\n",
    "    for j in range(2 * size):\n",
    "        if j <= i or j >= 2 * size - i - 1 or j >= size + i or j <= 2 * size - i - 1:\n",
    "            print(\"*\", end=\"\")\n",
    "        else:\n",
    "            print(\" \", end=\"\")\n",
    "    print()\n"
   ]
  },
  {
   "cell_type": "code",
   "execution_count": 13,
   "id": "3587dcb8-8214-4d12-9bf2-4e59ddd45e65",
   "metadata": {},
   "outputs": [
    {
     "name": "stdout",
     "output_type": "stream",
     "text": [
      "6\n"
     ]
    }
   ],
   "source": [
    "a = [1,2,3,4,5,6,7,8]\n",
    "print(a[1]+a[3])"
   ]
  },
  {
   "cell_type": "code",
   "execution_count": 14,
   "id": "ee5ec08a-4410-4a3f-a62b-26b9707250a0",
   "metadata": {},
   "outputs": [
    {
     "ename": "NameError",
     "evalue": "name 'List' is not defined",
     "output_type": "error",
     "traceback": [
      "\u001b[1;31m---------------------------------------------------------------------------\u001b[0m",
      "\u001b[1;31mNameError\u001b[0m                                 Traceback (most recent call last)",
      "Cell \u001b[1;32mIn[14], line 1\u001b[0m\n\u001b[1;32m----> 1\u001b[0m \u001b[38;5;28;43;01mclass\u001b[39;49;00m\u001b[43m \u001b[49m\u001b[38;5;21;43;01mSolution\u001b[39;49;00m\u001b[43m:\u001b[49m\n\u001b[0;32m      2\u001b[0m \u001b[43m    \u001b[49m\u001b[38;5;28;43;01mdef\u001b[39;49;00m\u001b[43m \u001b[49m\u001b[38;5;21;43mtwoSum\u001b[39;49m\u001b[43m(\u001b[49m\u001b[38;5;28;43mself\u001b[39;49m\u001b[43m,\u001b[49m\u001b[43m \u001b[49m\u001b[43mnums\u001b[49m\u001b[43m:\u001b[49m\u001b[43m \u001b[49m\u001b[43mList\u001b[49m\u001b[43m[\u001b[49m\u001b[38;5;28;43mint\u001b[39;49m\u001b[43m]\u001b[49m\u001b[43m,\u001b[49m\u001b[43m \u001b[49m\u001b[43mtarget\u001b[49m\u001b[43m:\u001b[49m\u001b[43m \u001b[49m\u001b[38;5;28;43mint\u001b[39;49m\u001b[43m)\u001b[49m\u001b[43m \u001b[49m\u001b[38;5;241;43m-\u001b[39;49m\u001b[38;5;241;43m>\u001b[39;49m\u001b[43m \u001b[49m\u001b[43mList\u001b[49m\u001b[43m[\u001b[49m\u001b[38;5;28;43mint\u001b[39;49m\u001b[43m]\u001b[49m\u001b[43m:\u001b[49m\n\u001b[0;32m      3\u001b[0m \u001b[43m        \u001b[49m\u001b[38;5;28;43;01mfor\u001b[39;49;00m\u001b[43m \u001b[49m\u001b[43mi\u001b[49m\u001b[43m \u001b[49m\u001b[38;5;129;43;01min\u001b[39;49;00m\u001b[43m \u001b[49m\u001b[38;5;28;43mrange\u001b[39;49m\u001b[43m(\u001b[49m\u001b[38;5;241;43m0\u001b[39;49m\u001b[43m,\u001b[49m\u001b[38;5;28;43mlen\u001b[39;49m\u001b[43m(\u001b[49m\u001b[43mnums\u001b[49m\u001b[43m)\u001b[49m\u001b[43m)\u001b[49m\u001b[43m:\u001b[49m\n",
      "Cell \u001b[1;32mIn[14], line 2\u001b[0m, in \u001b[0;36mSolution\u001b[1;34m()\u001b[0m\n\u001b[0;32m      1\u001b[0m \u001b[38;5;28;01mclass\u001b[39;00m \u001b[38;5;21;01mSolution\u001b[39;00m:\n\u001b[1;32m----> 2\u001b[0m     \u001b[38;5;28;01mdef\u001b[39;00m \u001b[38;5;21mtwoSum\u001b[39m(\u001b[38;5;28mself\u001b[39m, nums: \u001b[43mList\u001b[49m[\u001b[38;5;28mint\u001b[39m], target: \u001b[38;5;28mint\u001b[39m) \u001b[38;5;241m-\u001b[39m\u001b[38;5;241m>\u001b[39m List[\u001b[38;5;28mint\u001b[39m]:\n\u001b[0;32m      3\u001b[0m         \u001b[38;5;28;01mfor\u001b[39;00m i \u001b[38;5;129;01min\u001b[39;00m \u001b[38;5;28mrange\u001b[39m(\u001b[38;5;241m0\u001b[39m,\u001b[38;5;28mlen\u001b[39m(nums)):\n\u001b[0;32m      4\u001b[0m             \u001b[38;5;28;01mfor\u001b[39;00m j \u001b[38;5;129;01min\u001b[39;00m \u001b[38;5;28mrange\u001b[39m(\u001b[38;5;241m0\u001b[39m,\u001b[38;5;28mlen\u001b[39m(nums)):\n",
      "\u001b[1;31mNameError\u001b[0m: name 'List' is not defined"
     ]
    }
   ],
   "source": [
    "class Solution:\n",
    "    def twoSum(self, nums: List[int], target: int) -> List[int]:\n",
    "        for i in range(0,len(nums)):\n",
    "            for j in range(0,len(nums)):\n",
    "                if i==j:\n",
    "                    continue\n",
    "                if nums[i]+nums[j] == target:\n",
    "                    return [i,j]\n"
   ]
  },
  {
   "cell_type": "code",
   "execution_count": null,
   "id": "746db9b7-618e-4950-b1f5-0e81c2bb02a9",
   "metadata": {},
   "outputs": [],
   "source": []
  }
 ],
 "metadata": {
  "kernelspec": {
   "display_name": "Python 3 (ipykernel)",
   "language": "python",
   "name": "python3"
  },
  "language_info": {
   "codemirror_mode": {
    "name": "ipython",
    "version": 3
   },
   "file_extension": ".py",
   "mimetype": "text/x-python",
   "name": "python",
   "nbconvert_exporter": "python",
   "pygments_lexer": "ipython3",
   "version": "3.12.3"
  }
 },
 "nbformat": 4,
 "nbformat_minor": 5
}
