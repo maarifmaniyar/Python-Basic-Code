{
 "cells": [
  {
   "cell_type": "markdown",
   "id": "160041b5-a93f-4ecf-bb24-d7a224327388",
   "metadata": {},
   "source": [
    "22/04/2024\n",
    "Monday\n",
    "\n",
    "|---------->>Time Conplete::\n",
    "Time complexity"
   ]
  },
  {
   "cell_type": "code",
   "execution_count": null,
   "id": "55d47793-ebaa-43f1-af99-b701dcf945c6",
   "metadata": {},
   "outputs": [],
   "source": [
    "DSA TIME COMPLEXITY\n",
    "\n",
    "Time complexity depends on several iterations. Types of time complexity are:\n",
    "1.constant time complexity-->O(1)-->best time complexity\n",
    "2.linear-->O(n) \n",
    "3.quadratic-->O(n^2)\n",
    "4.exponential-->O(n^m)\n",
    "5.factorial-->O(n!)\n",
    "-->worst time complexity\n",
    "\n",
    "optimal solution-->gives time complexity in best case and worst case also.\n",
    "\n",
    "SPACE COMPLEXITY\n",
    "\n",
    "1. Constant space-->should not use extra space.\n",
    "2. Linear space-->can create a copy of it-->one copy."
   ]
  },
  {
   "cell_type": "code",
   "execution_count": 7,
   "id": "903a1375-0b60-4bb7-8e79-cd687adbcf1d",
   "metadata": {},
   "outputs": [
    {
     "name": "stdout",
     "output_type": "stream",
     "text": [
      "Maximum sum of three consecutive elements: 26\n"
     ]
    }
   ],
   "source": [
    "#find the maximum sum of three consecutive elements of the array.\n",
    "\n",
    "L=[2,4,6,1,3,7,4,6,9,3,6,8,3,6,4,1,3,9,6,4,5,6,8,3,7,3,6,8]\n",
    "max=0  \n",
    "for i in range (0,len(L)-2):\n",
    "    sum = L[i] + L[i + 1] + L[i + 2]\n",
    "    if sum > max:\n",
    "        max = sum\n",
    "\n",
    "print(\"Maximum sum of three consecutive elements:\", max_sum)\n",
    "\n",
    "   "
   ]
  },
  {
   "cell_type": "code",
   "execution_count": 6,
   "id": "4b770d83-7cb1-4b66-a9fc-6262800e054a",
   "metadata": {},
   "outputs": [
    {
     "name": "stdout",
     "output_type": "stream",
     "text": [
      "Maximum sum of three consecutive elements: 26\n"
     ]
    }
   ],
   "source": [
    "#find the maximum sum of three consecutive elements of the array.\n",
    "\n",
    "L=[2,4,6,1,3,7,4,6,9,3,6,8,3,6,4,1,3,9,6,4,5,6,8,3,7,3,6,8]\n",
    "max=0  \n",
    "for i in range (0,len(L)-2):\n",
    "    sum = L[i] + L[i + 1] + L[i + 2]\n",
    "    if sum > max:\n",
    "        max = sum\n",
    "\n",
    "print(\"Maximum sum of three consecutive elements:\", max_sum)\n",
    "\n",
    "   "
   ]
  },
  {
   "cell_type": "code",
   "execution_count": 5,
   "id": "71130ea0-1bd3-47f7-9615-05c615114e1b",
   "metadata": {},
   "outputs": [
    {
     "name": "stdin",
     "output_type": "stream",
     "text": [
      "Enter the number of consecutive elements (2, 3, or 4):  4\n"
     ]
    },
    {
     "name": "stdout",
     "output_type": "stream",
     "text": [
      "Maximum sum of 4 consecutive elements: 26\n"
     ]
    }
   ],
   "source": [
    "def max_sum_consecutive_elements(lst, num_consecutive):\n",
    "    max_sum = float('-inf')\n",
    "\n",
    "    for i in range(len(lst) - num_consecutive + 1):\n",
    "        current_sum = sum(lst[i:i+num_consecutive])\n",
    "        max_sum = max(max_sum, current_sum)\n",
    "\n",
    "    return max_sum\n",
    "\n",
    "L = [2, 4, 6, 1, 3, 7, 4, 6, 9, 3, 6, 8, 3, 6, 4, 1, 3, 9, 6, 4, 5, 6, 8, 3, 7, 3, 6, 8]\n",
    "\n",
    "num = int(input(\"Enter the number of consecutive elements (2, 3, or 4): \"))\n",
    "\n",
    "print(\"Maximum sum of\", num, \"consecutive elements:\", max_sum_consecutive_elements(L, num))\n"
   ]
  },
  {
   "cell_type": "code",
   "execution_count": 3,
   "id": "ea6796b0-360b-4d66-a620-8db7d869d1b5",
   "metadata": {},
   "outputs": [
    {
     "name": "stdin",
     "output_type": "stream",
     "text": [
      "Enter the number of consecutive elements (2, 3, or 4):  3\n"
     ]
    },
    {
     "name": "stdout",
     "output_type": "stream",
     "text": [
      "Maximum sum of 3 consecutive elements: 19\n"
     ]
    }
   ],
   "source": [
    "L = [2, 4, 6, 1, 3, 7, 4, 6, 9, 3, 6, 8, 3, 6, 4, 1, 3, 9, 6, 4, 5, 6, 8, 3, 7, 3, 6, 8]\n",
    "\n",
    "num = int(input(\"Enter the number of consecutive elements (2, 3, or 4): \"))\n",
    "\n",
    "for i in range(len(L) - num + 1):\n",
    "    current_sum = sum(L[i:i+num])\n",
    "    max_sum = max(max_sum, current_sum)\n",
    "print(\"Maximum sum of\", num, \"consecutive elements:\", max_sum)\n"
   ]
  },
  {
   "cell_type": "code",
   "execution_count": 4,
   "id": "660ff8c7-b960-4894-bc79-20a9881c1921",
   "metadata": {},
   "outputs": [
    {
     "name": "stdin",
     "output_type": "stream",
     "text": [
      "Enter the number of consecutive elements (2, 3, or 4):  4\n"
     ]
    },
    {
     "name": "stdout",
     "output_type": "stream",
     "text": [
      "Maximum sum of 4 consecutive elements: 26\n"
     ]
    }
   ],
   "source": [
    "L = [2, 4, 6, 1, 3, 7, 4, 6, 9, 3, 6, 8, 3, 6, 4, 1, 3, 9, 6, 4, 5, 6, 8, 3, 7, 3, 6, 8]\n",
    "\n",
    "num = int(input(\"Enter the number of consecutive elements (2, 3, or 4): \"))\n",
    "for i in range(len(L) - num + 1):\n",
    "    current_sum = sum(L[i:i+num])\n",
    "    max_sum = max(max_sum, current_sum)\n",
    "print(\"Maximum sum of\", num, \"consecutive elements:\", max_sum)\n"
   ]
  },
  {
   "cell_type": "code",
   "execution_count": 1,
   "id": "c8b4d329-e615-48bf-a852-a40a80ef53d3",
   "metadata": {},
   "outputs": [
    {
     "name": "stdin",
     "output_type": "stream",
     "text": [
      "Enter the number of consecutive elements (2, 3, or 4):  3\n"
     ]
    },
    {
     "name": "stdout",
     "output_type": "stream",
     "text": [
      "Maximum sum of 3 consecutive elements: 19\n"
     ]
    }
   ],
   "source": [
    "L = [2, 4, 6, 1, 3, 7, 4, 6, 9, 3, 6, 8, 3, 6, 4, 1, 3, 9, 6, 4, 5, 6, 8, 3, 7, 3, 6, 8]\n",
    "\n",
    "num = int(input(\"Enter the number of consecutive elements (2, 3, or 4): \"))\n",
    "\n",
    "max_sum = float('-inf')\n",
    "\n",
    "for i in range(len(L) - num + 1):\n",
    "    current_sum = sum(L[i:i+num])\n",
    "    max_sum = max(max_sum, current_sum)\n",
    "print(\"Maximum sum of\", num, \"consecutive elements:\", max_sum)\n"
   ]
  },
  {
   "cell_type": "code",
   "execution_count": 2,
   "id": "39508ce7-1b4d-4af7-8706-bbbc55da25aa",
   "metadata": {},
   "outputs": [
    {
     "name": "stdin",
     "output_type": "stream",
     "text": [
      "Enter the number of consecutive elements (2, 3, or 4):  2\n"
     ]
    },
    {
     "name": "stdout",
     "output_type": "stream",
     "text": [
      "Maximum sum of 2 consecutive elements: 15\n"
     ]
    }
   ],
   "source": [
    "L = [2, 4, 6, 1, 3, 7, 4, 6, 9, 3, 6, 8, 3, 6, 4, 1, 3, 9, 6, 4, 5, 6, 8, 3, 7, 3, 6, 8]\n",
    "\n",
    "num = int(input(\"Enter the number of consecutive elements (2, 3, or 4): \"))\n",
    "\n",
    "max_sum = float('-inf')\n",
    "\n",
    "for i in range(len(L) - num + 1):\n",
    "    current_sum = sum(L[i:i+num])\n",
    "    max_sum = max(max_sum, current_sum)\n",
    "print(\"Maximum sum of\", num, \"consecutive elements:\", max_sum)\n"
   ]
  },
  {
   "cell_type": "code",
   "execution_count": 15,
   "id": "1f773d66-c62c-4726-b303-825e0de1890a",
   "metadata": {},
   "outputs": [
    {
     "ename": "SyntaxError",
     "evalue": "invalid syntax (2126868238.py, line 6)",
     "output_type": "error",
     "traceback": [
      "\u001b[1;36m  Cell \u001b[1;32mIn[15], line 6\u001b[1;36m\u001b[0m\n\u001b[1;33m    con=int(input(\"enter consecutive number:\"))          explanation\u001b[0m\n\u001b[1;37m                                                         ^\u001b[0m\n\u001b[1;31mSyntaxError\u001b[0m\u001b[1;31m:\u001b[0m invalid syntax\n"
     ]
    }
   ],
   "source": [
    "L = [2, 4, 6, 1, 3, 7, 4, 6, 9, 3, 6, 8, 3, 6, 4, 1, 3, 9, 6, 4, 5, 6, 8, 3, 7, 3, 6, 8,2, 4, 6, 1,\n",
    "     3, 7, 4, 6, 9, 3, 6, 8, 3, 6, 4, 1, 3, 9, 6, 4, 5, 6, 8, 3, 7, 3,2, 4, 6, 1, 3, 7, 4, 6, 9,\n",
    "     3, 6, 8, 3,6, 4, 1, 3, 9, 6, 4, 5, 6, 8, 3, 7, 3,]\n",
    "\n",
    "max=0\n",
    "con=int(input(\"enter consecutive number:\"))          explanation\n",
    "\n",
    "for x in range(0,len(L)-con-1):                      x  j  s\n",
    "    s=0                                              0  0  0\n",
    "    for j in range(0,con):\n",
    "        s=s+L[x+j]                                    x  j  s\n",
    "    if max<s:                                         1  0  0\n",
    "        max=s\n",
    "print(max)"
   ]
  },
  {
   "cell_type": "code",
   "execution_count": 27,
   "id": "f9a4c105-e6f1-4bbf-b9a8-0108a8e3035f",
   "metadata": {},
   "outputs": [
    {
     "name": "stdin",
     "output_type": "stream",
     "text": [
      "enter consecutive number: 7\n"
     ]
    },
    {
     "name": "stdout",
     "output_type": "stream",
     "text": [
      "[2, 4, 6, 1, 3, 7, 4]\n",
      "[6, 9, 3, 6, 8, 3, 6]\n",
      "[4, 1, 3, 9, 6, 4, 5]\n",
      "[6, 8, 3, 7, 3, 6, 8]\n",
      "[2, 4, 6, 1, 3, 7, 4]\n",
      "[6, 9, 3, 6, 8, 3, 6]\n",
      "[4, 1, 3, 9, 6, 4, 5]\n",
      "[6, 8, 3, 7, 3, 2, 4]\n",
      "[6, 1, 3, 7, 4, 6, 9]\n",
      "[3, 6, 8, 3, 6, 4, 1]\n",
      "[3, 9, 6, 4, 5, 6, 8]\n",
      "9\n"
     ]
    }
   ],
   "source": [
    "L = [2, 4, 6, 1, 3, 7, 4, 6, 9, 3, 6, 8, 3, 6, 4, 1, 3, 9, 6, 4, 5, 6, 8, 3, 7, 3, 6, 8,2, 4, 6, 1,\n",
    "     3, 7, 4, 6, 9, 3, 6, 8, 3, 6, 4, 1, 3, 9, 6, 4, 5, 6, 8, 3, 7, 3,2, 4, 6, 1, 3, 7, 4, 6, 9,\n",
    "     3, 6, 8, 3,6, 4, 1, 3, 9, 6, 4, 5, 6, 8, 3, 7, 3,]\n",
    "\n",
    "max=0\n",
    "con=int(input(\"enter consecutive number:\"))          \n",
    "\n",
    "for x in range(0, len(L) - con + 1, con):\n",
    "    print(L[x:x+con])          \n",
    "    \n",
    "    s=0                                             \n",
    "    s=s+L[x+j]                                 \n",
    "    if max<s:                                     \n",
    "        max=s\n",
    "print(max)"
   ]
  },
  {
   "cell_type": "markdown",
   "id": "b3df60eb-1502-490b-a997-b52565644d82",
   "metadata": {},
   "source": [
    "23/04/2024\n"
   ]
  },
  {
   "cell_type": "markdown",
   "id": "f6bc55cb-0d72-4ef8-8e63-b9b6f6158c8e",
   "metadata": {},
   "source": [
    "#insertion sort -->find lighter element and bring it front.      i=0-->n\n",
    "                                                                 j=i-->-1,-1\n",
    "                                                                 temp=L[j}\n",
    "                                                                 if L[j]<L[j-1]\n",
    "                                                                 L[j]=L[j-1]\n",
    "                                                                 L[j]=temp"
   ]
  },
  {
   "cell_type": "code",
   "execution_count": 24,
   "id": "27687825-d910-4b14-8764-38754be2debd",
   "metadata": {},
   "outputs": [
    {
     "name": "stdout",
     "output_type": "stream",
     "text": [
      "Sorted list: [1, 2, 3, 4, 5, 6, 7, 8, 9]\n"
     ]
    }
   ],
   "source": [
    "L=[3,5,2,6,7,4,8,1,9]\n",
    "n = len(L)\n",
    "for i in range(n):\n",
    "    for j in range(0, n-i-1):\n",
    "        if L[j] > L[j+1]:\n",
    "            temp = L[j]\n",
    "            L[j] = L[j+1]\n",
    "            L[j+1] = temp\n",
    "print(\"Sorted list:\",L)"
   ]
  },
  {
   "cell_type": "markdown",
   "id": "b18c5506-5165-443e-a9e9-e12deedc5dcf",
   "metadata": {},
   "source": [
    "Bubble sort Example Programe:----------|\n",
    "                                        |\n",
    "                                        |\n",
    "                                        |\n",
    "                                        |\n",
    "                                        |\n",
    "\n",
    "                                        "
   ]
  },
  {
   "cell_type": "code",
   "execution_count": 23,
   "id": "3dda4277-3d5f-4ebb-95b0-d4b0134d1c99",
   "metadata": {},
   "outputs": [
    {
     "name": "stdout",
     "output_type": "stream",
     "text": [
      "[2, 4, 1, 7, 8, 9, 6]\n"
     ]
    }
   ],
   "source": [
    "arr = [2,4,8,1,9,6,7]\n",
    "for i in range(0,len(arr)):\n",
    "    for j in range(0,len(arr)-1):\n",
    "        \n",
    "        if arr[j] > arr[+1]:\n",
    "            temp = arr[j]\n",
    "            arr[j] = arr[j+1]\n",
    "            arr [j+1] = temp\n",
    "print(arr)"
   ]
  },
  {
   "cell_type": "markdown",
   "id": "4446a6ab-42a9-4612-a1a9-e7023ceb0e75",
   "metadata": {},
   "source": [
    "------->Insertion of sort :"
   ]
  },
  {
   "cell_type": "code",
   "execution_count": null,
   "id": "36f06e39-4150-41fc-a71b-abae6237ab5e",
   "metadata": {},
   "outputs": [],
   "source": [
    "arr = [5,4,8,1,9,6,7]  #insertion of sort\n",
    "for i in range(1,len(arr)):\n",
    "    temp=arr[i]\n",
    "    j=i-1\n",
    "    while j>=0 and temp < arr[j]:\n",
    "        arr[j+1] = arr[j]\n",
    "        j =-1"
   ]
  },
  {
   "cell_type": "code",
   "execution_count": null,
   "id": "784bcfde-15e5-48ae-bb3d-703ddc44fce4",
   "metadata": {},
   "outputs": [],
   "source": [
    "--------> Selection sort :"
   ]
  },
  {
   "cell_type": "code",
   "execution_count": 25,
   "id": "9a6c1b07-976a-40db-bdf7-9aeea3d53f7f",
   "metadata": {},
   "outputs": [
    {
     "name": "stdout",
     "output_type": "stream",
     "text": [
      "[1, 4, 5, 6, 7, 8, 9]\n"
     ]
    }
   ],
   "source": [
    "arr = [5,4,8,1,9,6,7] #selection sort\n",
    "for i in range(0,len(arr)):\n",
    "    min_idx=i\n",
    "    for j in range(i+1,len(arr)):\n",
    "        if arr[min_idx]>arr[j]:\n",
    "            min_idx=j\n",
    "    temp=arr[i]\n",
    "    arr[i]=arr[min_idx]\n",
    "    arr[min_idx]=temp\n",
    "\n",
    "print(arr)"
   ]
  },
  {
   "cell_type": "code",
   "execution_count": 1,
   "id": "52572aaf-3f21-406d-a9ff-c79d49f29ab6",
   "metadata": {},
   "outputs": [
    {
     "name": "stdout",
     "output_type": "stream",
     "text": [
      "[2, 3, 4, 5, 6, 9]\n"
     ]
    }
   ],
   "source": [
    "#insertion\n",
    "arr = [9,5,6,2,3,4]\n",
    "for i in range(1,len(arr)):\n",
    "    temp = arr[i]\n",
    "    j=i-1\n",
    "    while j>=0 and temp<arr[j]:\n",
    "        arr[j+1]=arr[j]\n",
    "        j-=1\n",
    "    arr[j+1]=temp\n",
    "\n",
    "print(arr)"
   ]
  },
  {
   "cell_type": "code",
   "execution_count": 7,
   "id": "27510f9b-fbb7-4323-b98d-eb7d1fabb394",
   "metadata": {},
   "outputs": [
    {
     "name": "stdout",
     "output_type": "stream",
     "text": [
      "2\n"
     ]
    }
   ],
   "source": [
    "arr =[9,2,5,6,3]\n",
    "min = arr[0]\n",
    "for i in range(len(arr)):\n",
    "    if arr[i]<min:\n",
    "        min = arr[i]\n",
    "\n",
    "print(min)"
   ]
  },
  {
   "cell_type": "code",
   "execution_count": 9,
   "id": "39285998-a2b3-40b4-a175-d437ac8c208c",
   "metadata": {},
   "outputs": [
    {
     "name": "stdout",
     "output_type": "stream",
     "text": [
      "4\n"
     ]
    }
   ],
   "source": [
    "arr =[9,2,5,6,3]\n",
    "min = arr[0]\n",
    "for i in range(len(arr)):\n",
    "    if arr[i]<min:\n",
    "        a =i\n",
    "\n",
    "print(min)"
   ]
  },
  {
   "cell_type": "markdown",
   "id": "bafdb97e-09ae-4a28-ac41-b3717fad3124",
   "metadata": {},
   "source": [
    "Example statement :\n",
    "a = [9,5,6,2,3,4]\n",
    " a> Sort Element\n",
    " b> Find the mid\n",
    " c> Compare\n",
    " |"
   ]
  },
  {
   "cell_type": "code",
   "execution_count": 12,
   "id": "c5c11835-f637-440b-ba0c-36939fab9e6f",
   "metadata": {},
   "outputs": [
    {
     "ename": "SyntaxError",
     "evalue": "invalid syntax (586521354.py, line 14)",
     "output_type": "error",
     "traceback": [
      "\u001b[1;36m  Cell \u001b[1;32mIn[12], line 14\u001b[1;36m\u001b[0m\n\u001b[1;33m    elif:\u001b[0m\n\u001b[1;37m        ^\u001b[0m\n\u001b[1;31mSyntaxError\u001b[0m\u001b[1;31m:\u001b[0m invalid syntax\n"
     ]
    }
   ],
   "source": [
    "L = [23,54,45,23,79,78,45]\n",
    "L.sort()\n",
    "low = 0\n",
    "high = len(1)\n",
    "mid = int(lower+high/2)\n",
    "src=int(input())\n",
    "\n",
    "if src>L[mid]:\n",
    "    high=mid-1\n",
    "\n",
    "elif src<L[mid]:\n",
    "    low=mid+1\n",
    "\n",
    "elif:\n",
    "    print(\"Element foud at mid\",mid)"
   ]
  },
  {
   "cell_type": "code",
   "execution_count": 1,
   "id": "20b22cba-39cf-4e80-b85b-5dfa917e3435",
   "metadata": {},
   "outputs": [
    {
     "name": "stdout",
     "output_type": "stream",
     "text": [
      "[9, 13, 21, 23, 24, 35, 43, 45, 46, 47, 48, 49, 54, 57, 65, 66, 67, 68, 73, 78, 86, 87, 89, 92, 95, 97]\n"
     ]
    },
    {
     "name": "stdin",
     "output_type": "stream",
     "text": [
      " 12\n"
     ]
    },
    {
     "name": "stdout",
     "output_type": "stream",
     "text": [
      "item not in list\n",
      "low 0 High 26 mid 13\n",
      "low 0 High 12 mid 6\n",
      "low 0 High 5 mid 2\n",
      "low 0 High 1 mid 0\n",
      "Enter not Found  0\n"
     ]
    }
   ],
   "source": [
    "L=[23,45,67,87,65,43,54,35,21,9,89,78,97,68,95,57,48,86,73,92,13,66,46,49,24,47]\n",
    "L.sort()\n",
    "print(L)\n",
    "low=0\n",
    "high=len(L)\n",
    "src=int(input())\n",
    "try:\n",
    "    print(\"index of element is\",L.index(src))\n",
    "except:\n",
    "    print(\"item not in list\")\n",
    "Flag=0\n",
    "while low<high:\n",
    "    mid=int((low+high)/2)\n",
    "    print(\"low\",low,\"High\",high,\"mid\",mid)\n",
    "    if src<L[mid]:\n",
    "        high=mid-1\n",
    "    elif src>L[mid]:\n",
    "        low=mid+1\n",
    "    else:\n",
    "        Flag=1\n",
    "        break;\n",
    "if Flag==1:\n",
    "    print(\"Enter Found at \",mid)\n",
    "else:\n",
    "    print(\"Enter not Found \",mid)"
   ]
  },
  {
   "cell_type": "code",
   "execution_count": 15,
   "id": "0327a143-f2cd-4fa1-87a1-682454f5d118",
   "metadata": {},
   "outputs": [
    {
     "name": "stdin",
     "output_type": "stream",
     "text": [
      " This is the car(BMW)\n"
     ]
    },
    {
     "name": "stdout",
     "output_type": "stream",
     "text": [
      "Valid strings\n"
     ]
    }
   ],
   "source": [
    "s = input()\n",
    "x=y=z=0\n",
    "for c in s:\n",
    "    match (c):\n",
    "        case '(':x+=1\n",
    "        case ')':x-=1\n",
    "        case '{':y+=1\n",
    "        case '}':y-=1\n",
    "        case '[':z+=1\n",
    "        case ']':z-=1\n",
    "        case _:continue\n",
    "\n",
    "if x+y+z ==0:\n",
    "    print(\"Valid strings\")\n",
    "else:\n",
    "    print(\"invalid strings\")"
   ]
  },
  {
   "cell_type": "code",
   "execution_count": 17,
   "id": "c87f28e8-cef6-4f66-8a20-2945453980d3",
   "metadata": {},
   "outputs": [
    {
     "ename": "NameError",
     "evalue": "name 'add' is not defined",
     "output_type": "error",
     "traceback": [
      "\u001b[1;31m---------------------------------------------------------------------------\u001b[0m",
      "\u001b[1;31mNameError\u001b[0m                                 Traceback (most recent call last)",
      "Cell \u001b[1;32mIn[17], line 2\u001b[0m\n\u001b[0;32m      1\u001b[0m s\u001b[38;5;241m=\u001b[39m[]\n\u001b[1;32m----> 2\u001b[0m \u001b[43madd\u001b[49m(\u001b[38;5;241m2\u001b[39m)\n\u001b[0;32m      3\u001b[0m add(\u001b[38;5;241m3\u001b[39m)\n\u001b[0;32m      4\u001b[0m add(\u001b[38;5;241m5\u001b[39m)\n",
      "\u001b[1;31mNameError\u001b[0m: name 'add' is not defined"
     ]
    }
   ],
   "source": [
    "s=[]\n",
    "add(2)\n",
    "add(3)\n",
    "add(5)\n",
    "add(4)\n",
    "print(5)"
   ]
  }
 ],
 "metadata": {
  "kernelspec": {
   "display_name": "Python 3 (ipykernel)",
   "language": "python",
   "name": "python3"
  },
  "language_info": {
   "codemirror_mode": {
    "name": "ipython",
    "version": 3
   },
   "file_extension": ".py",
   "mimetype": "text/x-python",
   "name": "python",
   "nbconvert_exporter": "python",
   "pygments_lexer": "ipython3",
   "version": "3.12.3"
  }
 },
 "nbformat": 4,
 "nbformat_minor": 5
}
