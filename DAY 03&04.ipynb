{
 "cells": [
  {
   "cell_type": "markdown",
   "id": "1789be9d-7d7b-42f8-a80e-b8fb7ea0af34",
   "metadata": {},
   "source": [
    "17/04/2024"
   ]
  },
  {
   "cell_type": "code",
   "execution_count": 6,
   "id": "4b1df460-7a10-4280-8034-156839f222ef",
   "metadata": {},
   "outputs": [
    {
     "name": "stdout",
     "output_type": "stream",
     "text": [
      "[1, 2, 3, 4, 5, 6]\n",
      "6\n",
      "[1, 2, 3, 4, 5, 'ectd']\n",
      "ectd\n"
     ]
    }
   ],
   "source": [
    "a=[1,2,3,4,5,6]\n",
    "print(a)\n",
    "print(a[5])\n",
    "a[5]=\"ectd\"\n",
    "print(a)\n",
    "print(a[5])"
   ]
  },
  {
   "cell_type": "code",
   "execution_count": 8,
   "id": "8de5c8e2-aeff-42fd-a154-2ae879b26cc6",
   "metadata": {},
   "outputs": [
    {
     "name": "stdout",
     "output_type": "stream",
     "text": [
      "11\n",
      "12\n",
      "65\n",
      "34\n",
      "34\n",
      "efef\n",
      "43\n",
      "76\n",
      "8\n"
     ]
    }
   ],
   "source": [
    "arr=[11,12,65,34,34,\"efef\",43,76,8]\n",
    "for x in range(0,9):\n",
    "    print(arr[x])"
   ]
  },
  {
   "cell_type": "markdown",
   "id": "f7934f6c-aef4-4b7d-b0d5-610f832bd9fc",
   "metadata": {},
   "source": [
    "Class list (MUtabalsequence[_T]:\n",
    "@overload\n",
    "def sort() * used to copy\n",
    "def copy() #used to copy\n",
    "def append() #used to add elements in the end\n",
    "def pop()\n",
    "def index()\n",
    "def count() # Couts the number of Duplicates\n",
    "def insert() #used to insert the element\n",
    "def remove ()"
   ]
  },
  {
   "cell_type": "code",
   "execution_count": 16,
   "id": "d844ad8d-2fca-4734-a44f-6977b9f45416",
   "metadata": {},
   "outputs": [
    {
     "name": "stdout",
     "output_type": "stream",
     "text": [
      "[2, 5, 3, 6, 3, 2]\n",
      "2\n",
      "6\n",
      "[6, 5, 3, 3, 2, 2]\n",
      "2\n",
      "5\n",
      "3\n",
      "6\n",
      "3\n",
      "2\n"
     ]
    }
   ],
   "source": [
    "x=[2,5,3,6,3,2]\n",
    "y=x.copy()\n",
    "print(y)\n",
    "print(x.index(3))\n",
    "print(len(x))\n",
    "x.sort(reverse=True)\n",
    "print(x)\n",
    "for a in y:\n",
    "    print(a)\n",
    "\n"
   ]
  },
  {
   "cell_type": "code",
   "execution_count": 1,
   "id": "84de6522-550a-4c22-b3a7-75d2315b06cb",
   "metadata": {},
   "outputs": [
    {
     "name": "stdin",
     "output_type": "stream",
     "text": [
      "Enter the length of the list 6\n",
      " 8\n",
      " 5\n",
      " 4\n",
      " 3\n",
      " 3\n",
      " 2\n"
     ]
    },
    {
     "name": "stdout",
     "output_type": "stream",
     "text": [
      "['8', '5', '4', '3', '3', '2']\n"
     ]
    }
   ],
   "source": [
    "n = int(input(\"Enter the length of the list\"))\n",
    "a=[]\n",
    "for x in range(0,n):\n",
    "    x=input()\n",
    "    a.append(x)\n",
    "print(a)"
   ]
  },
  {
   "cell_type": "markdown",
   "id": "6c347121-b7e3-44fc-ba56-3d6860191381",
   "metadata": {},
   "source": [
    "pop is used to pull out the elements of the list and append the object to the end of the list extended list by copy is used to create a list of index return the first index of valve court return number. Where len(..) is used to find the list "
   ]
  },
  {
   "cell_type": "code",
   "execution_count": 2,
   "id": "2045430a-4e82-442a-b737-5df21cdd5d37",
   "metadata": {},
   "outputs": [
    {
     "name": "stdout",
     "output_type": "stream",
     "text": [
      "10\n",
      "43\n",
      "5\n",
      "4\n",
      "3\n",
      "23\n",
      "8\n",
      "9\n",
      "56\n",
      "45\n",
      "6\n",
      "45\n",
      "4\n",
      "7\n",
      "56\n",
      "9\n",
      "89\n",
      "4\n",
      "5\n",
      "2\n"
     ]
    }
   ],
   "source": [
    "a=[10,43,5,4,3,23,8,9,56,45,6,45,4,7,56,9,89,4,5,2]\n",
    "for x in a:\n",
    "    print (x)\n",
    "    "
   ]
  },
  {
   "cell_type": "code",
   "execution_count": 4,
   "id": "23dc8ba0-d144-4b8d-aee8-bbf51d2e77fd",
   "metadata": {},
   "outputs": [
    {
     "name": "stdin",
     "output_type": "stream",
     "text": [
      "Enter the size of list 10\n",
      " 12\n",
      " 11\n",
      " 11\n",
      " 5\n",
      " 45\n",
      " 45\n",
      " 454\n",
      " 54545\n",
      " 4\n",
      " \n"
     ]
    },
    {
     "name": "stdout",
     "output_type": "stream",
     "text": [
      "['12', '11', '11', '5', '45', '45', '454', '54545', '4', '']\n"
     ]
    }
   ],
   "source": [
    "n=int(input(\"Enter the size of list\"))\n",
    "a=[]\n",
    "for x in range(0,n):\n",
    "    x=input()\n",
    "    a.append(x)\n",
    "print(a)"
   ]
  },
  {
   "cell_type": "code",
   "execution_count": 14,
   "id": "f896ef8b-2632-4250-8466-17e9e1955242",
   "metadata": {},
   "outputs": [
    {
     "name": "stdout",
     "output_type": "stream",
     "text": [
      "[1, 2, 3, 4, 5]\n",
      "[1, 2, 3, 4, 5]\n",
      "[1, 2, 3, 4, 5, 23]\n"
     ]
    }
   ],
   "source": [
    "a = [1,2,3,4,5]\n",
    "print(a)\n",
    "b=list(a)\n",
    "print(b)\n",
    "b.append(23)\n",
    "print(b)\n",
    "a = [1,2,3,4]\n",
    "for x in range(-1,-4):\n",
    "    print(a)"
   ]
  },
  {
   "cell_type": "code",
   "execution_count": 6,
   "id": "500b8461-9dd0-47b7-a94f-89e35398b173",
   "metadata": {},
   "outputs": [
    {
     "name": "stdout",
     "output_type": "stream",
     "text": [
      "8\n",
      "7\n",
      "6\n",
      "5\n",
      "4\n",
      "3\n",
      "2\n",
      "1\n"
     ]
    }
   ],
   "source": [
    "a = (1,2,3,4,5,6,7,8)\n",
    "for x in range (-1,-1*(len(a)+1),-1):\n",
    "    print(a[x])"
   ]
  },
  {
   "cell_type": "markdown",
   "id": "4e6d3d46-e9d3-40ec-be2e-40871a97bcb0",
   "metadata": {},
   "source": [
    "Dictionary\n",
    "\n",
    "key and Vales\n",
    "\n",
    "Key Valve Pairs\n"
   ]
  },
  {
   "cell_type": "code",
   "execution_count": 3,
   "id": "c8192199-94a4-4729-a74a-4af5f7ae1678",
   "metadata": {},
   "outputs": [
    {
     "name": "stdout",
     "output_type": "stream",
     "text": [
      "{1: 'Maarif', 2: 'Mehak', 3: 'Maniyar'}\n",
      "dict_keys([1, 2, 3])\n",
      "dict_values(['Maarif', 'Mehak', 'Maniyar'])\n",
      "dict_items([(1, 'Maarif'), (2, 'Mehak'), (3, 'Maniyar')])\n",
      "None\n"
     ]
    }
   ],
   "source": [
    "a = {1:\"Maarif\",2:\"Mehak\",3:\"Maniyar\"}\n",
    "print(a)\n",
    "print(a.keys())\n",
    "print(a.values())\n",
    "print(a.items())\n",
    "print(a.get(5))\n",
    "\n"
   ]
  },
  {
   "cell_type": "markdown",
   "id": "1475ab53-32c4-4a41-a89f-9fca6aeb82ea",
   "metadata": {},
   "source": [
    "Write a program to take the Key and Valve, and add it to the Dictionary if the Key is not Present in the Dictionary or else print its corresponding valve "
   ]
  },
  {
   "cell_type": "code",
   "execution_count": 13,
   "id": "7b9427c8-f852-4176-b736-964009b8df68",
   "metadata": {},
   "outputs": [
    {
     "name": "stdin",
     "output_type": "stream",
     "text": [
      "Enter the key:  5\n",
      "Enter the value:  4\n"
     ]
    },
    {
     "name": "stdout",
     "output_type": "stream",
     "text": [
      "Key '5' added with value '4'\n",
      "Updated dictionary: {'5': '4'}\n"
     ]
    }
   ],
   "source": [
    "my_dict = {}\n",
    "\n",
    "def add_or_print_value(dictionary, key, value):\n",
    "    if key not in dictionary:\n",
    "        dictionary[key] = value\n",
    "        print(\"Key '{}' added with value '{}'\".format(key, value))\n",
    "    else:\n",
    "        print(\"The corresponding value for key '{}' is '{}'\".format(key, dictionary[key]))\n",
    "\n",
    "key = input(\"Enter the key: \")\n",
    "value = input(\"Enter the value: \")\n",
    "\n",
    "add_or_print_value(my_dict, key, value)\n",
    "\n",
    "print(\"Updated dictionary:\", my_dict)\n"
   ]
  },
  {
   "cell_type": "markdown",
   "id": "6c423eef-bcdb-42f7-a4dd-3e18c0a089b4",
   "metadata": {},
   "source": [
    "--------> Errors! And Exception>\n",
    "<<Learn more about Errors and Exception\n",
    "<< Type of errors\n",
    "<< Received Errors"
   ]
  },
  {
   "cell_type": "code",
   "execution_count": 10,
   "id": "3a71c490-de2e-4ec5-ac52-f5e1af24a93c",
   "metadata": {},
   "outputs": [
    {
     "name": "stdin",
     "output_type": "stream",
     "text": [
      " 2\n",
      " 3\n"
     ]
    },
    {
     "name": "stdout",
     "output_type": "stream",
     "text": [
      "Can be Divisible\n",
      "We can Receive the Result 0.6666666666666666\n"
     ]
    }
   ],
   "source": [
    "a = int(input())\n",
    "b = int(input())\n",
    "try:\n",
    "    c=a/b\n",
    "except:\n",
    "    print(\"Can Be Divisible by 0\")\n",
    "else:\n",
    "    print(\"Can be Divisible\")\n",
    "finally:\n",
    "    print(\"We can Receive the Result\",c)"
   ]
  },
  {
   "cell_type": "code",
   "execution_count": 12,
   "id": "2e025340-e8e2-4b69-a8af-85a05b3b04c0",
   "metadata": {},
   "outputs": [
    {
     "name": "stdin",
     "output_type": "stream",
     "text": [
      " 5\n",
      " 6\n",
      " 4\n"
     ]
    },
    {
     "name": "stdout",
     "output_type": "stream",
     "text": [
      "They are not Divisible by 0\n",
      "We can recive the result 0.20833333333333334\n"
     ]
    }
   ],
   "source": [
    "a = int(input())\n",
    "b = int(input())\n",
    "c = int(input())\n",
    "try:\n",
    "    d=a/b/c\n",
    "except:\n",
    "    print(\"They can be divisible by 0\")\n",
    "else:\n",
    "    print(\"They are not Divisible by 0\")\n",
    "finally:\n",
    "    print(\"We can recive the result\",d)\n",
    "    "
   ]
  },
  {
   "cell_type": "code",
   "execution_count": 20,
   "id": "05f58cfa-eba1-4d80-a9f5-a72cfdefbff2",
   "metadata": {},
   "outputs": [
    {
     "name": "stdin",
     "output_type": "stream",
     "text": [
      " 10\n"
     ]
    },
    {
     "name": "stdout",
     "output_type": "stream",
     "text": [
      "The given element is Wrong\n"
     ]
    }
   ],
   "source": [
    "a = [1,2,3,4,5,6,7,8]\n",
    "i = int(input())\n",
    "try:\n",
    "    print(a[i])\n",
    "except:\n",
    "    print(\"The given element is Wrong\")\n",
    "else:\n",
    "    print(\"The given element is true\")\n",
    "    "
   ]
  },
  {
   "cell_type": "code",
   "execution_count": 27,
   "id": "f17d2e84-30a5-41ca-b7db-a3d21fc46dd5",
   "metadata": {},
   "outputs": [
    {
     "name": "stdin",
     "output_type": "stream",
     "text": [
      " 5\n",
      " 0\n"
     ]
    },
    {
     "name": "stdout",
     "output_type": "stream",
     "text": [
      "Can't Divide by Zero\n",
      "Code Excecution Done\n"
     ]
    }
   ],
   "source": [
    "try:\n",
    "    a = input()\n",
    "    b = input()\n",
    "    c = int(a)/int(b)\n",
    "    x = \"Hello\"/3\n",
    "except ValueError:\n",
    "    print(\"Valve cannot be converted\")\n",
    "except ZeroDivisionError:\n",
    "    print(\"Can't Divide by Zero\")\n",
    "except:\n",
    "    print(\"Some unknow Error found\")\n",
    "else:\n",
    "    print(\"No Error\")\n",
    "finally:\n",
    "    print(\"Code Excecution Done\")\n",
    "    "
   ]
  },
  {
   "cell_type": "code",
   "execution_count": null,
   "id": "adcadbdb-5240-4106-998e-b8ddfa0a9d72",
   "metadata": {},
   "outputs": [],
   "source": [
    "-----> Home Work Codee (17/04/2024)\n",
    ">>Write a Python Program to find the sum of all Elements in List and Handle the case if it consists of non Numerical Valve.\n",
    ">>Create a dictionary with the Name of the Student and their corresponding CGPA.\n",
    ">>Write a Program to find out the Average grade and handle the case when the dictionary is Empty."
   ]
  },
  {
   "cell_type": "code",
   "execution_count": 1,
   "id": "f9ebb751-e461-4794-aed6-f14e1b61b2e9",
   "metadata": {},
   "outputs": [
    {
     "name": "stdout",
     "output_type": "stream",
     "text": [
      "Ignoring non-numeric value: a\n",
      "The number of list in Elements: 10.0\n",
      "Ignoring non-numeric value: b\n",
      "The number of list in Elements: 19.0\n"
     ]
    }
   ],
   "source": [
    "#>>Write a Python Program to find the sum of all Elements in List and Handle the case if it consists of non Numerical Valve.\n",
    "list = [2,4,4, 'a', 4, 5, 'b', 6]\n",
    "total = 0\n",
    "for item in list:\n",
    "    try:\n",
    "        total += float(item)\n",
    "    except ValueError:\n",
    "        print(f\"Ignoring non-numeric value: {item}\")\n",
    "        print(\"The number of list in Elements:\",total)"
   ]
  },
  {
   "cell_type": "code",
   "execution_count": 2,
   "id": "cbc99579-2b4f-4662-8d6e-c8fee036ce7f",
   "metadata": {},
   "outputs": [
    {
     "name": "stdout",
     "output_type": "stream",
     "text": [
      "Average grade: 82.6\n"
     ]
    }
   ],
   "source": [
    "#>>Create a dictionary with the Name of the Student and their corresponding CGPA.\n",
    "student_grades = {\"Pavan\": 85,\"Marif\": 70,\"Pramod\": 92,\"Mrutyunjaya\": 78,\"Mouli\": 88}\n",
    "if not student_grades:\n",
    "    print(\"The dictionary is empty.\")\n",
    "else:\n",
    "    total_grades = 0\n",
    "    num_students = len(student_grades)\n",
    "\n",
    "    for grade in student_grades.values():\n",
    "        total_grades += grade\n",
    "\n",
    "    average_grade = total_grades / num_students\n",
    "    print(\"Average grade:\", average_grade)"
   ]
  },
  {
   "cell_type": "code",
   "execution_count": 3,
   "id": "b0eb01ef-780e-4f1b-ad7c-28abccd758ba",
   "metadata": {},
   "outputs": [
    {
     "name": "stdout",
     "output_type": "stream",
     "text": [
      "Student Grades:\n"
     ]
    },
    {
     "ename": "NameError",
     "evalue": "name 'student_grade' is not defined",
     "output_type": "error",
     "traceback": [
      "\u001b[1;31m---------------------------------------------------------------------------\u001b[0m",
      "\u001b[1;31mNameError\u001b[0m                                 Traceback (most recent call last)",
      "Cell \u001b[1;32mIn[3], line 5\u001b[0m\n\u001b[0;32m      3\u001b[0m \u001b[38;5;28mprint\u001b[39m(\u001b[38;5;124m\"\u001b[39m\u001b[38;5;124mStudent Grades:\u001b[39m\u001b[38;5;124m\"\u001b[39m)\n\u001b[0;32m      4\u001b[0m \u001b[38;5;28;01mfor\u001b[39;00m grade \u001b[38;5;129;01min\u001b[39;00m student_grades\u001b[38;5;241m.\u001b[39mitems():\n\u001b[1;32m----> 5\u001b[0m     \u001b[38;5;28mprint\u001b[39m(\u001b[38;5;124mf\u001b[39m\u001b[38;5;124m\"\u001b[39m\u001b[38;5;132;01m{\u001b[39;00m\u001b[43mstudent_grade\u001b[49m\u001b[38;5;132;01m}\u001b[39;00m\u001b[38;5;124m: \u001b[39m\u001b[38;5;132;01m{\u001b[39;00mgrade\u001b[38;5;132;01m}\u001b[39;00m\u001b[38;5;124m\"\u001b[39m)\n",
      "\u001b[1;31mNameError\u001b[0m: name 'student_grade' is not defined"
     ]
    }
   ],
   "source": [
    "#>>Write a Program to find out the Average grade and handle the case when the dictionary is Empty.\n",
    "student_grades = {\"Akash\": 85,\"Bobby\": 70,\"Charlie\": 92,\"affan\": 78,\"virat\": 88}\n",
    "print(\"Student Grades:\")\n",
    "for grade in student_grades.items():\n",
    "    print(f\"{student_grade}: {grade}\")"
   ]
  },
  {
   "cell_type": "markdown",
   "id": "3b8176e5-b0f5-4ec3-b679-fb14a25c313d",
   "metadata": {},
   "source": [
    "# 18/04/2024"
   ]
  },
  {
   "cell_type": "code",
   "execution_count": 2,
   "id": "7e297c1f-342b-4781-bdff-602a5fe3fadf",
   "metadata": {},
   "outputs": [
    {
     "name": "stdin",
     "output_type": "stream",
     "text": [
      " 4\n"
     ]
    },
    {
     "name": "stdout",
     "output_type": "stream",
     "text": [
      "Its a Pallidrome\n"
     ]
    }
   ],
   "source": [
    "a=input()\n",
    "flag = 0\n",
    "for i in range (0,int(len(a)/2)):\n",
    "    if a[i] != a[(i+1)*-1]:\n",
    "        flag = 1\n",
    "    break\n",
    "if flag:\n",
    "    print(\"Its not Pallidrome\")\n",
    "else:\n",
    "    print(\"Its a Pallidrome\")\n",
    "    "
   ]
  },
  {
   "cell_type": "code",
   "execution_count": 25,
   "id": "e75af142-c2a3-4cfd-ba6a-c3d1f3be1940",
   "metadata": {},
   "outputs": [
    {
     "name": "stdin",
     "output_type": "stream",
     "text": [
      " 23\n"
     ]
    },
    {
     "name": "stdout",
     "output_type": "stream",
     "text": [
      "Its not the prime factor\n"
     ]
    }
   ],
   "source": [
    "a = int(input())\n",
    "for x in range(2,int(a/2)):\n",
    "    if a%x==0:\n",
    "        print(\"Its a Prime factor\")\n",
    "else:\n",
    "        print(\"Its not the prime factor\")\n",
    "        "
   ]
  },
  {
   "cell_type": "code",
   "execution_count": null,
   "id": "273c0d12-1555-4e95-8142-eb55f521d054",
   "metadata": {},
   "outputs": [],
   "source": [
    "----> File Handling\n",
    "> Create\n",
    "> Read\n",
    "> Write\n",
    "> Ubdate\n",
    "> Delete\n"
   ]
  },
  {
   "cell_type": "code",
   "execution_count": 3,
   "id": "dba15902-9ba9-4f42-a85f-01fead4f5ce2",
   "metadata": {},
   "outputs": [
    {
     "ename": "NameError",
     "evalue": "name '_name_' is not defined",
     "output_type": "error",
     "traceback": [
      "\u001b[1;31m---------------------------------------------------------------------------\u001b[0m",
      "\u001b[1;31mNameError\u001b[0m                                 Traceback (most recent call last)",
      "Cell \u001b[1;32mIn[3], line 1\u001b[0m\n\u001b[1;32m----> 1\u001b[0m \u001b[38;5;28;01mif\u001b[39;00m \u001b[43m_name_\u001b[49m \u001b[38;5;241m==\u001b[39m\u001b[38;5;124m'\u001b[39m\u001b[38;5;124m_main_\u001b[39m\u001b[38;5;124m'\u001b[39m:\n\u001b[0;32m      2\u001b[0m     filename \u001b[38;5;241m=\u001b[39m \u001b[38;5;124m\"\u001b[39m\u001b[38;5;124mexample.txt\u001b[39m\u001b[38;5;124m\"\u001b[39m\n\u001b[0;32m      3\u001b[0m     new_filename \u001b[38;5;241m=\u001b[39m \u001b[38;5;124m\"\u001b[39m\u001b[38;5;124mnewexample.txt\u001b[39m\u001b[38;5;124m\"\u001b[39m\n",
      "\u001b[1;31mNameError\u001b[0m: name '_name_' is not defined"
     ]
    }
   ],
   "source": [
    "if _name_ =='_main_':\n",
    "    filename = \"example.txt\"\n",
    "    new_filename = \"newexample.txt\"\n",
    "\n",
    "create_file(filename)\n",
    "read_file(filename)\n",
    "append_file(filename,\"This is some additional text./n\")\n",
    "read_file(filename)\n",
    "rename_file(filename,new_filename)\n",
    "read_file(filename)\n",
    "#delete_file(new_filename)"
   ]
  },
  {
   "cell_type": "code",
   "execution_count": 9,
   "id": "36e642b4-0c9f-43de-9b72-eb189ab581e6",
   "metadata": {},
   "outputs": [],
   "source": [
    "import os\n",
    "with open(\"file1.txt\",'w')as f:\n",
    "    f.write(\"This is maarifs file\")\n",
    "    "
   ]
  },
  {
   "cell_type": "code",
   "execution_count": 10,
   "id": "93c0da3c-b6cf-4b35-9436-f512f4c57495",
   "metadata": {},
   "outputs": [],
   "source": [
    "import os\n",
    "with open(\"file1.txt\",'w')as f:\n",
    "    f.write(\"This is maarifs file\")\n",
    "    f.close()"
   ]
  },
  {
   "cell_type": "code",
   "execution_count": 11,
   "id": "a4a9937b-1dec-4b82-b0f3-24c6dea34552",
   "metadata": {},
   "outputs": [],
   "source": [
    "import os\n",
    "os.remove(\"file1.txt\")"
   ]
  },
  {
   "cell_type": "code",
   "execution_count": 36,
   "id": "69d384b4-0cf4-4ef7-9fdb-2c8bfc29466c",
   "metadata": {},
   "outputs": [
    {
     "ename": "IndentationError",
     "evalue": "unexpected indent (1532436015.py, line 4)",
     "output_type": "error",
     "traceback": [
      "\u001b[1;36m  Cell \u001b[1;32mIn[36], line 4\u001b[1;36m\u001b[0m\n\u001b[1;33m    for a in f.read().split(\"\\n\"):\u001b[0m\n\u001b[1;37m    ^\u001b[0m\n\u001b[1;31mIndentationError\u001b[0m\u001b[1;31m:\u001b[0m unexpected indent\n"
     ]
    }
   ],
   "source": [
    "import os\n",
    "\n",
    "file = open(\"file1.txt1\",'r')\n",
    "    for a in f.read().split(\"\\n\"):\n",
    "        print(a)\n",
    "        print(\"111\")\n",
    "    f.close()"
   ]
  },
  {
   "cell_type": "code",
   "execution_count": 40,
   "id": "e809d7d6-a459-4de8-8e28-dff6073de2ba",
   "metadata": {},
   "outputs": [],
   "source": [
    "import os\n",
    "file = open(\"example file\",'w')\n",
    "file.write(\"Pavan is Ch\")\n",
    "file.close()"
   ]
  },
  {
   "cell_type": "code",
   "execution_count": 41,
   "id": "868f8029-1ecb-476b-ab15-ce379aee98ef",
   "metadata": {},
   "outputs": [],
   "source": [
    "import os\n",
    "os.remove(\"example file\")"
   ]
  },
  {
   "cell_type": "code",
   "execution_count": 1,
   "id": "94c4651d-7cf5-4c5e-8631-7b4873a7bc04",
   "metadata": {},
   "outputs": [
    {
     "name": "stdin",
     "output_type": "stream",
     "text": [
      " maarif\n",
      " jadvojsbdvojswrfojwn\n"
     ]
    }
   ],
   "source": [
    " import os\n",
    "file = open(input(),'w')\n",
    "file.write(input())\n",
    "file.close()"
   ]
  },
  {
   "cell_type": "markdown",
   "id": "1c86181d-88f2-46da-a334-5950fa70c0ed",
   "metadata": {},
   "source": [
    "Questions to solve:\n",
    "\n",
    "Convert a temperature from Celsius to Fahrenheit.\n",
    "\n",
    "Find the second largest element in a list.\n",
    "\n",
    "Count the occurrences of each element in a list.\n",
    "\n",
    "Find the sum of all even numbers in a list.\n",
    "\n",
    "Count the number of vowels in a string.\n",
    "\n",
    "Reverse the words in a given sentence."
   ]
  },
  {
   "cell_type": "code",
   "execution_count": 4,
   "id": "77b9e01f-dadd-4ae2-9950-1b6525a7cf5a",
   "metadata": {},
   "outputs": [
    {
     "name": "stdin",
     "output_type": "stream",
     "text": [
      "Type the present Temperature 34\n"
     ]
    },
    {
     "name": "stdout",
     "output_type": "stream",
     "text": [
      "The present Temepature in Fafrenheit is  93.2\n"
     ]
    }
   ],
   "source": [
    "#Convert a temperature from Celsius to Fahrenheit.\n",
    "celsius_temperature = int(input(\"Type the present Temperature\"))\n",
    "fahrenheit_temeparature = (celsius_temperature* 9/5) + 32\n",
    "print(\"The present Temepature in Fafrenheit is \",fahrenheit_temeparature)"
   ]
  },
  {
   "cell_type": "code",
   "execution_count": 9,
   "id": "8bf781c6-8bf5-461f-9fa7-7e496fea9e13",
   "metadata": {},
   "outputs": [
    {
     "ename": "IndentationError",
     "evalue": "unexpected indent (1383515359.py, line 8)",
     "output_type": "error",
     "traceback": [
      "\u001b[1;36m  Cell \u001b[1;32mIn[9], line 8\u001b[1;36m\u001b[0m\n\u001b[1;33m    elif x! = largest and (second largest = none or x>second_largest):\u001b[0m\n\u001b[1;37m    ^\u001b[0m\n\u001b[1;31mIndentationError\u001b[0m\u001b[1;31m:\u001b[0m unexpected indent\n"
     ]
    }
   ],
   "source": [
    "#Find the second largest element in a list\n",
    "a =[12,13,14,15,16]\n",
    "largest = a[0]\n",
    "second_largest = None\n",
    "for x in a:\n",
    "    if x>largest:\n",
    "        second_largest = largest\n",
    "    largest = x\n",
    "     elif x! = largest and (second largest = none or x > second_largest):\n",
    "    second_largest = x\n",
    "print(\"Second Largest Element is:\",second_largest)\n"
   ]
  },
  {
   "cell_type": "code",
   "execution_count": 10,
   "id": "b3d7d46d-29f2-4c59-8402-6e3312228a58",
   "metadata": {},
   "outputs": [
    {
     "name": "stdout",
     "output_type": "stream",
     "text": [
      "1: 1\n",
      "2: 3\n",
      "3: 2\n",
      "4: 2\n",
      "5: 3\n",
      "6: 1\n"
     ]
    }
   ],
   "source": [
    "#Count the occurrences of each element in a list.\n",
    "a = [1, 2, 3, 2, 4, 3, 2, 5, 6, 5, 4, 5]\n",
    "\n",
    "count_dict = {}\n",
    "\n",
    "for element in a:\n",
    "    if element in count_dict:\n",
    "        count_dict[element] += 1\n",
    "    else:\n",
    "        count_dict[element] = 1\n",
    "for element, count in count_dict.items():\n",
    "    print(f\"{element}: {count}\")\n"
   ]
  },
  {
   "cell_type": "code",
   "execution_count": 11,
   "id": "7e87064d-4539-4cad-9674-23ab09fb1026",
   "metadata": {},
   "outputs": [
    {
     "name": "stdout",
     "output_type": "stream",
     "text": [
      "Sum of even numbers: 30\n"
     ]
    }
   ],
   "source": [
    "#Find the sum of all even numbers in a list. \n",
    "a = [1, 2, 3, 4, 5, 6, 7, 8, 9, 10]\n",
    "\n",
    "even_sum = 0\n",
    "for num in a :\n",
    "    if num % 2 == 0:\n",
    "        even_sum += num\n",
    "print(\"Sum of even numbers:\", even_sum)\n"
   ]
  },
  {
   "cell_type": "code",
   "execution_count": 13,
   "id": "468aa187-7731-4b83-b118-29842fa827e4",
   "metadata": {},
   "outputs": [
    {
     "name": "stdout",
     "output_type": "stream",
     "text": [
      "Reversed sentence: . stringss\n"
     ]
    }
   ],
   "source": [
    "#Reverse the words in a given sentence\n",
    "a = \"stringss .\"\n",
    "words = a.split()\n",
    "reversed_sentence = ' '.join(words[::-1])\n",
    "print(\"Reversed sentence:\", reversed_sentence)\n"
   ]
  },
  {
   "cell_type": "code",
   "execution_count": null,
   "id": "6a5afa3a-b8f9-4639-a1ba-d7f9f4524e00",
   "metadata": {},
   "outputs": [],
   "source": []
  }
 ],
 "metadata": {
  "kernelspec": {
   "display_name": "Python 3 (ipykernel)",
   "language": "python",
   "name": "python3"
  },
  "language_info": {
   "codemirror_mode": {
    "name": "ipython",
    "version": 3
   },
   "file_extension": ".py",
   "mimetype": "text/x-python",
   "name": "python",
   "nbconvert_exporter": "python",
   "pygments_lexer": "ipython3",
   "version": "3.12.3"
  }
 },
 "nbformat": 4,
 "nbformat_minor": 5
}
